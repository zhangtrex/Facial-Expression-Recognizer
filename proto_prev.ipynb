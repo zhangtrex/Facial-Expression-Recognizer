{
 "cells": [
  {
   "cell_type": "markdown",
   "metadata": {},
   "source": [
    "<h2> Use images to load inputs and targets </h2>\n",
    "Load file names and targets"
   ]
  },
  {
   "cell_type": "code",
   "execution_count": 1,
   "metadata": {},
   "outputs": [
    {
     "name": "stdout",
     "output_type": "stream",
     "text": [
      "There are 28709 training images\n",
      "There are 7178 test images\n"
     ]
    }
   ],
   "source": [
    "from sklearn.datasets import load_files       \n",
    "from keras.utils import np_utils\n",
    "import numpy as np\n",
    "from glob import glob\n",
    "\n",
    "# load image filenames with corresponding targets\n",
    "def load_dataset(path):\n",
    "    data = load_files(path)\n",
    "    imgs = np.array(data['filenames'])\n",
    "    targets = np_utils.to_categorical(np.array(data['target']), 7)\n",
    "    return imgs, targets\n",
    "\n",
    "train_filenames, train_targets = load_dataset(\"../data/processed/train\")\n",
    "test_filenames, test_targets = load_dataset(\"../data/processed/test\")\n",
    "\n",
    "print(\"There are %d training images\" % len(train_filenames))\n",
    "print(\"There are %d test images\" % len(test_filenames))"
   ]
  },
  {
   "cell_type": "markdown",
   "metadata": {},
   "source": [
    "helpers to load image file"
   ]
  },
  {
   "cell_type": "code",
   "execution_count": 2,
   "metadata": {},
   "outputs": [],
   "source": [
    "from keras.preprocessing import image\n",
    "from tqdm import tqdm\n",
    "def my_load_image(img_path):\n",
    "    img = image.load_img(img_path, target_size=(48,48))\n",
    "    arr = image.img_to_array(img)\n",
    "    return np.expand_dims(arr, axis=0)\n",
    "\n",
    "def my_load_images(paths):\n",
    "    imgs = [my_load_image(p) for p in tqdm(paths)]\n",
    "    return np.vstack(imgs)"
   ]
  },
  {
   "cell_type": "markdown",
   "metadata": {},
   "source": [
    "load train image inputs"
   ]
  },
  {
   "cell_type": "code",
   "execution_count": 5,
   "metadata": {},
   "outputs": [
    {
     "name": "stderr",
     "output_type": "stream",
     "text": [
      "100%|██████████████████████████████████████████████████████████████████████████| 28709/28709 [00:09<00:00, 3174.24it/s]\n",
      "100%|████████████████████████████████████████████████████████████████████████████| 7178/7178 [00:02<00:00, 3246.37it/s]\n"
     ]
    }
   ],
   "source": [
    "train_inputs = my_load_images(train_filenames)\n",
    "train_inputs /= 255\n",
    "test_inputs = my_load_images(test_filenames)\n",
    "test_inputs /= 255"
   ]
  },
  {
   "cell_type": "markdown",
   "metadata": {},
   "source": [
    "<h2>Use csv to load inputs and targets </h2>"
   ]
  },
  {
   "cell_type": "code",
   "execution_count": 65,
   "metadata": {},
   "outputs": [],
   "source": [
    "import pandas as pd\n",
    "import numpy as np\n",
    "\n",
    "\n",
    "names=['emotion','pixels','usage']\n",
    "df=pd.read_csv('../data/processed/fer2013.csv',names=names, na_filter=False)\n",
    "train_df = df[df['usage']=='Training']\n",
    "validate_df = df[df['usage']=='PublicTest']\n",
    "test_df = df[df['usage']=='PrivateTest']"
   ]
  },
  {
   "cell_type": "code",
   "execution_count": 119,
   "metadata": {},
   "outputs": [],
   "source": [
    "def load_from_df(df):\n",
    "    imgs = df['pixels']\n",
    "    t = df['emotion']\n",
    "    inputs = []\n",
    "    targets = []\n",
    "    for i in imgs.keys():\n",
    "        x = [int(p) for p in imgs[i].split()]\n",
    "        x = np.reshape(x,(48,48))\n",
    "        y = [0 for i in range(7)]\n",
    "        y[int(t[i])] = 1\n",
    "        inputs.append(x)\n",
    "        targets.append(y)\n",
    "    inputs = np.array(inputs,dtype=np.float32)\n",
    "    inputs = np.expand_dims(inputs,axis=3)\n",
    "    inputs /= 255\n",
    "    targets = np.array(targets, dtype=np.float32)\n",
    "    return inputs, targets"
   ]
  },
  {
   "cell_type": "code",
   "execution_count": 120,
   "metadata": {},
   "outputs": [],
   "source": [
    "v_inputs, v_targets = load_from_df(validate_df)\n",
    "t_inputs, t_targets = load_from_df(test_df)\n",
    "tr_inputs, tr_targets = load_from_df(train_df)"
   ]
  },
  {
   "cell_type": "code",
   "execution_count": 132,
   "metadata": {},
   "outputs": [
    {
     "name": "stdout",
     "output_type": "stream",
     "text": [
      "[[[0.12941177]\n",
      "  [0.11764706]\n",
      "  [0.10980392]\n",
      "  ...\n",
      "  [0.15686275]\n",
      "  [0.19215687]\n",
      "  [0.26666668]]\n",
      "\n",
      " [[0.13333334]\n",
      "  [0.09803922]\n",
      "  [0.07843138]\n",
      "  ...\n",
      "  [0.13725491]\n",
      "  [0.18039216]\n",
      "  [0.25882354]]\n",
      "\n",
      " [[0.11764706]\n",
      "  [0.09019608]\n",
      "  [0.08235294]\n",
      "  ...\n",
      "  [0.10980392]\n",
      "  [0.1764706 ]\n",
      "  [0.25490198]]\n",
      "\n",
      " ...\n",
      "\n",
      " [[0.44705883]\n",
      "  [0.21176471]\n",
      "  [0.1254902 ]\n",
      "  ...\n",
      "  [0.21176471]\n",
      "  [0.1764706 ]\n",
      "  [0.19607843]]\n",
      "\n",
      " [[0.32156864]\n",
      "  [0.13333334]\n",
      "  [0.11372549]\n",
      "  ...\n",
      "  [0.19607843]\n",
      "  [0.20392157]\n",
      "  [0.18431373]]\n",
      "\n",
      " [[0.5137255 ]\n",
      "  [0.26666668]\n",
      "  [0.10588235]\n",
      "  ...\n",
      "  [0.20784314]\n",
      "  [0.20784314]\n",
      "  [0.1764706 ]]]\n"
     ]
    }
   ],
   "source": [
    "print(np.expand_dims(train_inputs[:,:,:,0],axis=3)[0])"
   ]
  },
  {
   "cell_type": "markdown",
   "metadata": {},
   "source": [
    "Create model"
   ]
  },
  {
   "cell_type": "code",
   "execution_count": 144,
   "metadata": {},
   "outputs": [
    {
     "name": "stdout",
     "output_type": "stream",
     "text": [
      "Model: \"sequential_21\"\n",
      "_________________________________________________________________\n",
      "Layer (type)                 Output Shape              Param #   \n",
      "=================================================================\n",
      "conv2d_97 (Conv2D)           (None, 48, 48, 32)        416       \n",
      "_________________________________________________________________\n",
      "max_pooling2d_55 (MaxPooling (None, 24, 24, 32)        0         \n",
      "_________________________________________________________________\n",
      "conv2d_98 (Conv2D)           (None, 24, 24, 64)        8256      \n",
      "_________________________________________________________________\n",
      "max_pooling2d_56 (MaxPooling (None, 12, 12, 64)        0         \n",
      "_________________________________________________________________\n",
      "conv2d_99 (Conv2D)           (None, 12, 12, 128)       32896     \n",
      "_________________________________________________________________\n",
      "max_pooling2d_57 (MaxPooling (None, 6, 6, 128)         0         \n",
      "_________________________________________________________________\n",
      "flatten_18 (Flatten)         (None, 4608)              0         \n",
      "_________________________________________________________________\n",
      "dense_52 (Dense)             (None, 256)               1179904   \n",
      "_________________________________________________________________\n",
      "dense_53 (Dense)             (None, 512)               131584    \n",
      "_________________________________________________________________\n",
      "dense_54 (Dense)             (None, 7)                 3591      \n",
      "=================================================================\n",
      "Total params: 1,356,647\n",
      "Trainable params: 1,356,647\n",
      "Non-trainable params: 0\n",
      "_________________________________________________________________\n"
     ]
    }
   ],
   "source": [
    "from keras.utils import np_utils\n",
    "from keras.models import Sequential\n",
    "from keras.layers import Conv2D, MaxPooling2D, Flatten, Dense, Dropout\n",
    "\n",
    "proto = Sequential()\n",
    "\n",
    "proto.add(Conv2D(filters=32,kernel_size=2,padding='same',activation='relu',input_shape=(48,48,3)))\n",
    "proto.add(MaxPooling2D(pool_size=2))\n",
    "proto.add(Conv2D(filters=64,kernel_size=2,padding='same',activation='relu'))\n",
    "proto.add(MaxPooling2D(pool_size=2))\n",
    "proto.add(Conv2D(filters=128,kernel_size=2,padding='same',activation='relu'))\n",
    "proto.add(MaxPooling2D(pool_size=2))\n",
    "proto.add(Flatten())\n",
    "proto.add(Dense(256,activation='relu'))\n",
    "proto.add(Dense(512,activation='relu'))\n",
    "proto.add(Dense(7,activation='softmax'))\n",
    "\n",
    "proto.summary()"
   ]
  },
  {
   "cell_type": "markdown",
   "metadata": {},
   "source": [
    "Compile"
   ]
  },
  {
   "cell_type": "code",
   "execution_count": 145,
   "metadata": {},
   "outputs": [],
   "source": [
    "proto.compile(loss='categorical_crossentropy',optimizer='adam',metrics=['accuracy'])"
   ]
  },
  {
   "cell_type": "markdown",
   "metadata": {},
   "source": [
    "train model"
   ]
  },
  {
   "cell_type": "code",
   "execution_count": 146,
   "metadata": {},
   "outputs": [
    {
     "name": "stdout",
     "output_type": "stream",
     "text": [
      "Epoch 1/10\n",
      "448/449 [============================>.] - ETA: 0s - loss: 1.6478 - accuracy: 0.3439\n",
      "Epoch 00001: val_loss improved from inf to 1.47964, saving model to ..\\models\\mycnn_prototype.hdf5\n",
      "449/449 [==============================] - 41s 90ms/step - loss: 1.6476 - accuracy: 0.3439 - val_loss: 1.4796 - val_accuracy: 0.4333\n",
      "Epoch 2/10\n",
      "449/449 [==============================] - ETA: 0s - loss: 1.3877 - accuracy: 0.4657\n",
      "Epoch 00002: val_loss improved from 1.47964 to 1.33193, saving model to ..\\models\\mycnn_prototype.hdf5\n",
      "449/449 [==============================] - 42s 93ms/step - loss: 1.3877 - accuracy: 0.4657 - val_loss: 1.3319 - val_accuracy: 0.4781\n",
      "Epoch 3/10\n",
      "449/449 [==============================] - ETA: 0s - loss: 1.2603 - accuracy: 0.5192\n",
      "Epoch 00003: val_loss improved from 1.33193 to 1.25220, saving model to ..\\models\\mycnn_prototype.hdf5\n",
      "449/449 [==============================] - 43s 97ms/step - loss: 1.2603 - accuracy: 0.5192 - val_loss: 1.2522 - val_accuracy: 0.5188\n",
      "Epoch 4/10\n",
      "449/449 [==============================] - ETA: 0s - loss: 1.1652 - accuracy: 0.5585\n",
      "Epoch 00004: val_loss improved from 1.25220 to 1.21742, saving model to ..\\models\\mycnn_prototype.hdf5\n",
      "449/449 [==============================] - 42s 94ms/step - loss: 1.1652 - accuracy: 0.5585 - val_loss: 1.2174 - val_accuracy: 0.5309\n",
      "Epoch 5/10\n",
      "449/449 [==============================] - ETA: 0s - loss: 1.0756 - accuracy: 0.5963\n",
      "Epoch 00005: val_loss improved from 1.21742 to 1.20575, saving model to ..\\models\\mycnn_prototype.hdf5\n",
      "449/449 [==============================] - 42s 93ms/step - loss: 1.0756 - accuracy: 0.5963 - val_loss: 1.2057 - val_accuracy: 0.5437\n",
      "Epoch 6/10\n",
      "449/449 [==============================] - ETA: 0s - loss: 0.9798 - accuracy: 0.6311\n",
      "Epoch 00006: val_loss improved from 1.20575 to 1.19902, saving model to ..\\models\\mycnn_prototype.hdf5\n",
      "449/449 [==============================] - 44s 97ms/step - loss: 0.9798 - accuracy: 0.6311 - val_loss: 1.1990 - val_accuracy: 0.5559\n",
      "Epoch 7/10\n",
      "449/449 [==============================] - ETA: 0s - loss: 0.8840 - accuracy: 0.6693\n",
      "Epoch 00007: val_loss did not improve from 1.19902\n",
      "449/449 [==============================] - 42s 94ms/step - loss: 0.8840 - accuracy: 0.6693 - val_loss: 1.2288 - val_accuracy: 0.5607\n",
      "Epoch 8/10\n",
      "449/449 [==============================] - ETA: 0s - loss: 0.7798 - accuracy: 0.7116\n",
      "Epoch 00008: val_loss did not improve from 1.19902\n",
      "449/449 [==============================] - 41s 90ms/step - loss: 0.7798 - accuracy: 0.7116 - val_loss: 1.3029 - val_accuracy: 0.5475\n",
      "Epoch 9/10\n",
      "449/449 [==============================] - ETA: 0s - loss: 0.6778 - accuracy: 0.7513\n",
      "Epoch 00009: val_loss did not improve from 1.19902\n",
      "449/449 [==============================] - 41s 91ms/step - loss: 0.6778 - accuracy: 0.7513 - val_loss: 1.3683 - val_accuracy: 0.5546\n",
      "Epoch 10/10\n",
      "449/449 [==============================] - ETA: 0s - loss: 0.5646 - accuracy: 0.7925\n",
      "Epoch 00010: val_loss did not improve from 1.19902\n",
      "449/449 [==============================] - 42s 94ms/step - loss: 0.5646 - accuracy: 0.7925 - val_loss: 1.4930 - val_accuracy: 0.5614\n"
     ]
    }
   ],
   "source": [
    "from keras.callbacks import ModelCheckpoint\n",
    "\n",
    "epoch = 10\n",
    "\n",
    "checkpointer = ModelCheckpoint(filepath='..\\models\\mycnn_prototype.hdf5',verbose=1,save_best_only= True)\n",
    "\n",
    "hist = proto.fit(train_inputs, train_targets , \n",
    "          validation_data=(test_inputs , test_targets),\n",
    "          epochs= epoch, batch_size=64, callbacks=[checkpointer], verbose=1)"
   ]
  },
  {
   "cell_type": "code",
   "execution_count": 143,
   "metadata": {},
   "outputs": [
    {
     "data": {
      "text/plain": [
       "<matplotlib.legend.Legend at 0x21dac8d6dd8>"
      ]
     },
     "execution_count": 143,
     "metadata": {},
     "output_type": "execute_result"
    },
    {
     "data": {
      "image/png": "[encoded data removed]",
      "text/plain": [
       "<Figure size 432x288 with 1 Axes>"
      ]
     },
     "metadata": {
      "needs_background": "light"
     },
     "output_type": "display_data"
    }
   ],
   "source": [
    "import matplotlib.pyplot as plt\n",
    "plt.plot(hist.history['loss'], label='loss')\n",
    "plt.plot(hist.history['val_loss'], label='validation loss')\n",
    "plt.plot(hist.history['accuracy'], label='accuracy')\n",
    "plt.plot(hist.history['val_accuracy'], label='val_accuracy')\n",
    "plt.legend(loc=\"upper left\")\n"
   ]
  },
  {
   "cell_type": "code",
   "execution_count": null,
   "metadata": {},
   "outputs": [],
   "source": []
  },
  {
   "cell_type": "code",
   "execution_count": 88,
   "metadata": {},
   "outputs": [
    {
     "name": "stdout",
     "output_type": "stream",
     "text": [
      "Model: \"sequential_18\"\n",
      "_________________________________________________________________\n",
      "Layer (type)                 Output Shape              Param #   \n",
      "=================================================================\n",
      "conv2d_88 (Conv2D)           (None, 48, 48, 64)        128       \n",
      "_________________________________________________________________\n",
      "batch_normalization_14 (Batc (None, 48, 48, 64)        256       \n",
      "_________________________________________________________________\n",
      "dropout_13 (Dropout)         (None, 48, 48, 64)        0         \n",
      "_________________________________________________________________\n",
      "conv2d_89 (Conv2D)           (None, 48, 48, 128)       73856     \n",
      "_________________________________________________________________\n",
      "batch_normalization_15 (Batc (None, 48, 48, 128)       512       \n",
      "_________________________________________________________________\n",
      "dropout_14 (Dropout)         (None, 48, 48, 128)       0         \n",
      "_________________________________________________________________\n",
      "conv2d_90 (Conv2D)           (None, 48, 48, 256)       819456    \n",
      "_________________________________________________________________\n",
      "batch_normalization_16 (Batc (None, 48, 48, 256)       1024      \n",
      "_________________________________________________________________\n",
      "max_pooling2d_48 (MaxPooling (None, 24, 24, 256)       0         \n",
      "_________________________________________________________________\n",
      "dropout_15 (Dropout)         (None, 24, 24, 256)       0         \n",
      "_________________________________________________________________\n",
      "flatten_15 (Flatten)         (None, 147456)            0         \n",
      "_________________________________________________________________\n",
      "dense_43 (Dense)             (None, 128)               18874496  \n",
      "_________________________________________________________________\n",
      "batch_normalization_17 (Batc (None, 128)               512       \n",
      "_________________________________________________________________\n",
      "activation_4 (Activation)    (None, 128)               0         \n",
      "_________________________________________________________________\n",
      "dropout_16 (Dropout)         (None, 128)               0         \n",
      "_________________________________________________________________\n",
      "dense_44 (Dense)             (None, 256)               33024     \n",
      "_________________________________________________________________\n",
      "batch_normalization_18 (Batc (None, 256)               1024      \n",
      "_________________________________________________________________\n",
      "activation_5 (Activation)    (None, 256)               0         \n",
      "_________________________________________________________________\n",
      "dropout_17 (Dropout)         (None, 256)               0         \n",
      "_________________________________________________________________\n",
      "dense_45 (Dense)             (None, 7)                 1799      \n",
      "=================================================================\n",
      "Total params: 19,806,087\n",
      "Trainable params: 19,804,423\n",
      "Non-trainable params: 1,664\n",
      "_________________________________________________________________\n"
     ]
    }
   ],
   "source": [
    "from keras.utils import np_utils\n",
    "from keras.models import Sequential\n",
    "from keras.layers import Conv2D, MaxPooling2D, Flatten, Dense, Dropout, BatchNormalization, Activation\n",
    "from keras import layers\n",
    "\n",
    "model = Sequential()\n",
    "model.add(layers.Conv2D(64, (1, 1), padding='same', activation='relu', input_shape=(48, 48, 1)))\n",
    "model.add(BatchNormalization())\n",
    "model.add(Dropout(0.25))\n",
    "\n",
    "model.add(layers.Conv2D(128, (3, 3),padding='same', activation='relu'))\n",
    "model.add(BatchNormalization())\n",
    "model.add(Dropout(0.25))\n",
    "\n",
    "model.add(layers.Conv2D(256, (5, 5),padding='same', activation='relu'))\n",
    "model.add(BatchNormalization())\n",
    "model.add(layers.MaxPooling2D((2, 2),padding=\"same\"))\n",
    "model.add(Dropout(0.25))\n",
    "\n",
    "\n",
    "model.add(layers.Flatten())\n",
    "\n",
    "model.add(layers.Dense(128))\n",
    "model.add(BatchNormalization())\n",
    "model.add(Activation('relu'))\n",
    "model.add(Dropout(0.25))\n",
    "\n",
    "model.add(layers.Dense(256))\n",
    "model.add(BatchNormalization())\n",
    "model.add(Activation('relu'))\n",
    "model.add(Dropout(0.25))\n",
    "\n",
    "model.add(layers.Dense(7, activation='softmax'))\n",
    "model.summary()"
   ]
  },
  {
   "cell_type": "code",
   "execution_count": 133,
   "metadata": {},
   "outputs": [],
   "source": [
    "from keras.optimizers import Adam\n",
    "opt = Adam(lr=0.001)\n",
    "\n",
    "model.compile(loss='categorical_crossentropy',optimizer=opt,metrics=['accuracy'])"
   ]
  },
  {
   "cell_type": "code",
   "execution_count": 135,
   "metadata": {},
   "outputs": [
    {
     "name": "stdout",
     "output_type": "stream",
     "text": [
      "Epoch 1/10\n",
      " 11/898 [..............................] - ETA: 30:00 - loss: 2.3014 - accuracy: 0.1818"
     ]
    },
    {
     "ename": "KeyboardInterrupt",
     "evalue": "",
     "output_type": "error",
     "traceback": [
      "\u001b[1;31m---------------------------------------------------------------------------\u001b[0m",
      "\u001b[1;31mKeyboardInterrupt\u001b[0m                         Traceback (most recent call last)",
      "\u001b[1;32m<ipython-input-135-4d675f572135>\u001b[0m in \u001b[0;36m<module>\u001b[1;34m\u001b[0m\n\u001b[0;32m      7\u001b[0m vgg_hist = model.fit(tr_inputs, tr_targets , \n\u001b[0;32m      8\u001b[0m           \u001b[0mvalidation_data\u001b[0m\u001b[1;33m=\u001b[0m\u001b[1;33m(\u001b[0m\u001b[0mt_inputs\u001b[0m \u001b[1;33m,\u001b[0m \u001b[0mt_targets\u001b[0m\u001b[1;33m)\u001b[0m\u001b[1;33m,\u001b[0m\u001b[1;33m\u001b[0m\u001b[0m\n\u001b[1;32m----> 9\u001b[1;33m           epochs=vgg_epoch, batch_size=32, callbacks=[vgg_checkpointer], verbose=1)\n\u001b[0m",
      "\u001b[1;32mc:\\users\\zhang\\appdata\\local\\programs\\python\\python37\\lib\\site-packages\\tensorflow\\python\\keras\\engine\\training.py\u001b[0m in \u001b[0;36m_method_wrapper\u001b[1;34m(self, *args, **kwargs)\u001b[0m\n\u001b[0;32m    106\u001b[0m   \u001b[1;32mdef\u001b[0m \u001b[0m_method_wrapper\u001b[0m\u001b[1;33m(\u001b[0m\u001b[0mself\u001b[0m\u001b[1;33m,\u001b[0m \u001b[1;33m*\u001b[0m\u001b[0margs\u001b[0m\u001b[1;33m,\u001b[0m \u001b[1;33m**\u001b[0m\u001b[0mkwargs\u001b[0m\u001b[1;33m)\u001b[0m\u001b[1;33m:\u001b[0m\u001b[1;33m\u001b[0m\u001b[0m\n\u001b[0;32m    107\u001b[0m     \u001b[1;32mif\u001b[0m \u001b[1;32mnot\u001b[0m \u001b[0mself\u001b[0m\u001b[1;33m.\u001b[0m\u001b[0m_in_multi_worker_mode\u001b[0m\u001b[1;33m(\u001b[0m\u001b[1;33m)\u001b[0m\u001b[1;33m:\u001b[0m  \u001b[1;31m# pylint: disable=protected-access\u001b[0m\u001b[1;33m\u001b[0m\u001b[0m\n\u001b[1;32m--> 108\u001b[1;33m       \u001b[1;32mreturn\u001b[0m \u001b[0mmethod\u001b[0m\u001b[1;33m(\u001b[0m\u001b[0mself\u001b[0m\u001b[1;33m,\u001b[0m \u001b[1;33m*\u001b[0m\u001b[0margs\u001b[0m\u001b[1;33m,\u001b[0m \u001b[1;33m**\u001b[0m\u001b[0mkwargs\u001b[0m\u001b[1;33m)\u001b[0m\u001b[1;33m\u001b[0m\u001b[0m\n\u001b[0m\u001b[0;32m    109\u001b[0m \u001b[1;33m\u001b[0m\u001b[0m\n\u001b[0;32m    110\u001b[0m     \u001b[1;31m# Running inside `run_distribute_coordinator` already.\u001b[0m\u001b[1;33m\u001b[0m\u001b[1;33m\u001b[0m\u001b[0m\n",
      "\u001b[1;32mc:\\users\\zhang\\appdata\\local\\programs\\python\\python37\\lib\\site-packages\\tensorflow\\python\\keras\\engine\\training.py\u001b[0m in \u001b[0;36mfit\u001b[1;34m(self, x, y, batch_size, epochs, verbose, callbacks, validation_split, validation_data, shuffle, class_weight, sample_weight, initial_epoch, steps_per_epoch, validation_steps, validation_batch_size, validation_freq, max_queue_size, workers, use_multiprocessing)\u001b[0m\n\u001b[0;32m   1096\u001b[0m                 batch_size=batch_size):\n\u001b[0;32m   1097\u001b[0m               \u001b[0mcallbacks\u001b[0m\u001b[1;33m.\u001b[0m\u001b[0mon_train_batch_begin\u001b[0m\u001b[1;33m(\u001b[0m\u001b[0mstep\u001b[0m\u001b[1;33m)\u001b[0m\u001b[1;33m\u001b[0m\u001b[0m\n\u001b[1;32m-> 1098\u001b[1;33m               \u001b[0mtmp_logs\u001b[0m \u001b[1;33m=\u001b[0m \u001b[0mtrain_function\u001b[0m\u001b[1;33m(\u001b[0m\u001b[0miterator\u001b[0m\u001b[1;33m)\u001b[0m\u001b[1;33m\u001b[0m\u001b[0m\n\u001b[0m\u001b[0;32m   1099\u001b[0m               \u001b[1;32mif\u001b[0m \u001b[0mdata_handler\u001b[0m\u001b[1;33m.\u001b[0m\u001b[0mshould_sync\u001b[0m\u001b[1;33m:\u001b[0m\u001b[1;33m\u001b[0m\u001b[0m\n\u001b[0;32m   1100\u001b[0m                 \u001b[0mcontext\u001b[0m\u001b[1;33m.\u001b[0m\u001b[0masync_wait\u001b[0m\u001b[1;33m(\u001b[0m\u001b[1;33m)\u001b[0m\u001b[1;33m\u001b[0m\u001b[0m\n",
      "\u001b[1;32mc:\\users\\zhang\\appdata\\local\\programs\\python\\python37\\lib\\site-packages\\tensorflow\\python\\eager\\def_function.py\u001b[0m in \u001b[0;36m__call__\u001b[1;34m(self, *args, **kwds)\u001b[0m\n\u001b[0;32m    778\u001b[0m       \u001b[1;32melse\u001b[0m\u001b[1;33m:\u001b[0m\u001b[1;33m\u001b[0m\u001b[0m\n\u001b[0;32m    779\u001b[0m         \u001b[0mcompiler\u001b[0m \u001b[1;33m=\u001b[0m \u001b[1;34m\"nonXla\"\u001b[0m\u001b[1;33m\u001b[0m\u001b[0m\n\u001b[1;32m--> 780\u001b[1;33m         \u001b[0mresult\u001b[0m \u001b[1;33m=\u001b[0m \u001b[0mself\u001b[0m\u001b[1;33m.\u001b[0m\u001b[0m_call\u001b[0m\u001b[1;33m(\u001b[0m\u001b[1;33m*\u001b[0m\u001b[0margs\u001b[0m\u001b[1;33m,\u001b[0m \u001b[1;33m**\u001b[0m\u001b[0mkwds\u001b[0m\u001b[1;33m)\u001b[0m\u001b[1;33m\u001b[0m\u001b[0m\n\u001b[0m\u001b[0;32m    781\u001b[0m \u001b[1;33m\u001b[0m\u001b[0m\n\u001b[0;32m    782\u001b[0m       \u001b[0mnew_tracing_count\u001b[0m \u001b[1;33m=\u001b[0m \u001b[0mself\u001b[0m\u001b[1;33m.\u001b[0m\u001b[0m_get_tracing_count\u001b[0m\u001b[1;33m(\u001b[0m\u001b[1;33m)\u001b[0m\u001b[1;33m\u001b[0m\u001b[0m\n",
      "\u001b[1;32mc:\\users\\zhang\\appdata\\local\\programs\\python\\python37\\lib\\site-packages\\tensorflow\\python\\eager\\def_function.py\u001b[0m in \u001b[0;36m_call\u001b[1;34m(self, *args, **kwds)\u001b[0m\n\u001b[0;32m    805\u001b[0m       \u001b[1;31m# In this case we have created variables on the first call, so we run the\u001b[0m\u001b[1;33m\u001b[0m\u001b[1;33m\u001b[0m\u001b[0m\n\u001b[0;32m    806\u001b[0m       \u001b[1;31m# defunned version which is guaranteed to never create variables.\u001b[0m\u001b[1;33m\u001b[0m\u001b[1;33m\u001b[0m\u001b[0m\n\u001b[1;32m--> 807\u001b[1;33m       \u001b[1;32mreturn\u001b[0m \u001b[0mself\u001b[0m\u001b[1;33m.\u001b[0m\u001b[0m_stateless_fn\u001b[0m\u001b[1;33m(\u001b[0m\u001b[1;33m*\u001b[0m\u001b[0margs\u001b[0m\u001b[1;33m,\u001b[0m \u001b[1;33m**\u001b[0m\u001b[0mkwds\u001b[0m\u001b[1;33m)\u001b[0m  \u001b[1;31m# pylint: disable=not-callable\u001b[0m\u001b[1;33m\u001b[0m\u001b[0m\n\u001b[0m\u001b[0;32m    808\u001b[0m     \u001b[1;32melif\u001b[0m \u001b[0mself\u001b[0m\u001b[1;33m.\u001b[0m\u001b[0m_stateful_fn\u001b[0m \u001b[1;32mis\u001b[0m \u001b[1;32mnot\u001b[0m \u001b[1;32mNone\u001b[0m\u001b[1;33m:\u001b[0m\u001b[1;33m\u001b[0m\u001b[0m\n\u001b[0;32m    809\u001b[0m       \u001b[1;31m# Release the lock early so that multiple threads can perform the call\u001b[0m\u001b[1;33m\u001b[0m\u001b[1;33m\u001b[0m\u001b[0m\n",
      "\u001b[1;32mc:\\users\\zhang\\appdata\\local\\programs\\python\\python37\\lib\\site-packages\\tensorflow\\python\\eager\\function.py\u001b[0m in \u001b[0;36m__call__\u001b[1;34m(self, *args, **kwargs)\u001b[0m\n\u001b[0;32m   2827\u001b[0m     \u001b[1;32mwith\u001b[0m \u001b[0mself\u001b[0m\u001b[1;33m.\u001b[0m\u001b[0m_lock\u001b[0m\u001b[1;33m:\u001b[0m\u001b[1;33m\u001b[0m\u001b[0m\n\u001b[0;32m   2828\u001b[0m       \u001b[0mgraph_function\u001b[0m\u001b[1;33m,\u001b[0m \u001b[0margs\u001b[0m\u001b[1;33m,\u001b[0m \u001b[0mkwargs\u001b[0m \u001b[1;33m=\u001b[0m \u001b[0mself\u001b[0m\u001b[1;33m.\u001b[0m\u001b[0m_maybe_define_function\u001b[0m\u001b[1;33m(\u001b[0m\u001b[0margs\u001b[0m\u001b[1;33m,\u001b[0m \u001b[0mkwargs\u001b[0m\u001b[1;33m)\u001b[0m\u001b[1;33m\u001b[0m\u001b[0m\n\u001b[1;32m-> 2829\u001b[1;33m     \u001b[1;32mreturn\u001b[0m \u001b[0mgraph_function\u001b[0m\u001b[1;33m.\u001b[0m\u001b[0m_filtered_call\u001b[0m\u001b[1;33m(\u001b[0m\u001b[0margs\u001b[0m\u001b[1;33m,\u001b[0m \u001b[0mkwargs\u001b[0m\u001b[1;33m)\u001b[0m  \u001b[1;31m# pylint: disable=protected-access\u001b[0m\u001b[1;33m\u001b[0m\u001b[0m\n\u001b[0m\u001b[0;32m   2830\u001b[0m \u001b[1;33m\u001b[0m\u001b[0m\n\u001b[0;32m   2831\u001b[0m   \u001b[1;33m@\u001b[0m\u001b[0mproperty\u001b[0m\u001b[1;33m\u001b[0m\u001b[0m\n",
      "\u001b[1;32mc:\\users\\zhang\\appdata\\local\\programs\\python\\python37\\lib\\site-packages\\tensorflow\\python\\eager\\function.py\u001b[0m in \u001b[0;36m_filtered_call\u001b[1;34m(self, args, kwargs, cancellation_manager)\u001b[0m\n\u001b[0;32m   1846\u001b[0m                            resource_variable_ops.BaseResourceVariable))],\n\u001b[0;32m   1847\u001b[0m         \u001b[0mcaptured_inputs\u001b[0m\u001b[1;33m=\u001b[0m\u001b[0mself\u001b[0m\u001b[1;33m.\u001b[0m\u001b[0mcaptured_inputs\u001b[0m\u001b[1;33m,\u001b[0m\u001b[1;33m\u001b[0m\u001b[0m\n\u001b[1;32m-> 1848\u001b[1;33m         cancellation_manager=cancellation_manager)\n\u001b[0m\u001b[0;32m   1849\u001b[0m \u001b[1;33m\u001b[0m\u001b[0m\n\u001b[0;32m   1850\u001b[0m   \u001b[1;32mdef\u001b[0m \u001b[0m_call_flat\u001b[0m\u001b[1;33m(\u001b[0m\u001b[0mself\u001b[0m\u001b[1;33m,\u001b[0m \u001b[0margs\u001b[0m\u001b[1;33m,\u001b[0m \u001b[0mcaptured_inputs\u001b[0m\u001b[1;33m,\u001b[0m \u001b[0mcancellation_manager\u001b[0m\u001b[1;33m=\u001b[0m\u001b[1;32mNone\u001b[0m\u001b[1;33m)\u001b[0m\u001b[1;33m:\u001b[0m\u001b[1;33m\u001b[0m\u001b[0m\n",
      "\u001b[1;32mc:\\users\\zhang\\appdata\\local\\programs\\python\\python37\\lib\\site-packages\\tensorflow\\python\\eager\\function.py\u001b[0m in \u001b[0;36m_call_flat\u001b[1;34m(self, args, captured_inputs, cancellation_manager)\u001b[0m\n\u001b[0;32m   1922\u001b[0m       \u001b[1;31m# No tape is watching; skip to running the function.\u001b[0m\u001b[1;33m\u001b[0m\u001b[1;33m\u001b[0m\u001b[0m\n\u001b[0;32m   1923\u001b[0m       return self._build_call_outputs(self._inference_function.call(\n\u001b[1;32m-> 1924\u001b[1;33m           ctx, args, cancellation_manager=cancellation_manager))\n\u001b[0m\u001b[0;32m   1925\u001b[0m     forward_backward = self._select_forward_and_backward_functions(\n\u001b[0;32m   1926\u001b[0m         \u001b[0margs\u001b[0m\u001b[1;33m,\u001b[0m\u001b[1;33m\u001b[0m\u001b[0m\n",
      "\u001b[1;32mc:\\users\\zhang\\appdata\\local\\programs\\python\\python37\\lib\\site-packages\\tensorflow\\python\\eager\\function.py\u001b[0m in \u001b[0;36mcall\u001b[1;34m(self, ctx, args, cancellation_manager)\u001b[0m\n\u001b[0;32m    548\u001b[0m               \u001b[0minputs\u001b[0m\u001b[1;33m=\u001b[0m\u001b[0margs\u001b[0m\u001b[1;33m,\u001b[0m\u001b[1;33m\u001b[0m\u001b[0m\n\u001b[0;32m    549\u001b[0m               \u001b[0mattrs\u001b[0m\u001b[1;33m=\u001b[0m\u001b[0mattrs\u001b[0m\u001b[1;33m,\u001b[0m\u001b[1;33m\u001b[0m\u001b[0m\n\u001b[1;32m--> 550\u001b[1;33m               ctx=ctx)\n\u001b[0m\u001b[0;32m    551\u001b[0m         \u001b[1;32melse\u001b[0m\u001b[1;33m:\u001b[0m\u001b[1;33m\u001b[0m\u001b[0m\n\u001b[0;32m    552\u001b[0m           outputs = execute.execute_with_cancellation(\n",
      "\u001b[1;32mc:\\users\\zhang\\appdata\\local\\programs\\python\\python37\\lib\\site-packages\\tensorflow\\python\\eager\\execute.py\u001b[0m in \u001b[0;36mquick_execute\u001b[1;34m(op_name, num_outputs, inputs, attrs, ctx, name)\u001b[0m\n\u001b[0;32m     58\u001b[0m     \u001b[0mctx\u001b[0m\u001b[1;33m.\u001b[0m\u001b[0mensure_initialized\u001b[0m\u001b[1;33m(\u001b[0m\u001b[1;33m)\u001b[0m\u001b[1;33m\u001b[0m\u001b[0m\n\u001b[0;32m     59\u001b[0m     tensors = pywrap_tfe.TFE_Py_Execute(ctx._handle, device_name, op_name,\n\u001b[1;32m---> 60\u001b[1;33m                                         inputs, attrs, num_outputs)\n\u001b[0m\u001b[0;32m     61\u001b[0m   \u001b[1;32mexcept\u001b[0m \u001b[0mcore\u001b[0m\u001b[1;33m.\u001b[0m\u001b[0m_NotOkStatusException\u001b[0m \u001b[1;32mas\u001b[0m \u001b[0me\u001b[0m\u001b[1;33m:\u001b[0m\u001b[1;33m\u001b[0m\u001b[0m\n\u001b[0;32m     62\u001b[0m     \u001b[1;32mif\u001b[0m \u001b[0mname\u001b[0m \u001b[1;32mis\u001b[0m \u001b[1;32mnot\u001b[0m \u001b[1;32mNone\u001b[0m\u001b[1;33m:\u001b[0m\u001b[1;33m\u001b[0m\u001b[0m\n",
      "\u001b[1;31mKeyboardInterrupt\u001b[0m: "
     ]
    }
   ],
   "source": [
    "from keras.callbacks import ModelCheckpoint\n",
    "\n",
    "vgg_epoch = 10\n",
    "\n",
    "vgg_checkpointer = ModelCheckpoint(filepath='..\\models\\vgg_prototype.hdf5',verbose=1,save_best_only= True)\n",
    "\n",
    "vgg_hist = model.fit(tr_inputs, tr_targets , \n",
    "          validation_data=(t_inputs , t_targets),\n",
    "          epochs=vgg_epoch, batch_size=32, callbacks=[vgg_checkpointer], verbose=1)"
   ]
  },
  {
   "cell_type": "code",
   "execution_count": null,
   "metadata": {},
   "outputs": [],
   "source": []
  },
  {
   "cell_type": "code",
   "execution_count": 159,
   "metadata": {},
   "outputs": [
    {
     "name": "stdout",
     "output_type": "stream",
     "text": [
      "Model: \"sequential_26\"\n",
      "_________________________________________________________________\n",
      "Layer (type)                 Output Shape              Param #   \n",
      "=================================================================\n",
      "flatten_23 (Flatten)         (None, 2304)              0         \n",
      "_________________________________________________________________\n",
      "dense_71 (Dense)             (None, 256)               590080    \n",
      "_________________________________________________________________\n",
      "dense_72 (Dense)             (None, 512)               131584    \n",
      "_________________________________________________________________\n",
      "dense_73 (Dense)             (None, 1024)              525312    \n",
      "_________________________________________________________________\n",
      "dense_74 (Dense)             (None, 7)                 7175      \n",
      "=================================================================\n",
      "Total params: 1,254,151\n",
      "Trainable params: 1,254,151\n",
      "Non-trainable params: 0\n",
      "_________________________________________________________________\n"
     ]
    }
   ],
   "source": [
    "from keras.utils import np_utils\n",
    "from keras.models import Sequential\n",
    "from keras.layers import Conv2D, MaxPooling2D, Flatten, Dense, Dropout, BatchNormalization, Activation\n",
    "from keras import layers\n",
    "\n",
    "mlp = Sequential()\n",
    "mlp.add(Flatten(input_shape=(48,48)))\n",
    "mlp.add(Dense(256,activation='relu'))\n",
    "mlp.add(Dense(512,activation='relu'))\n",
    "mlp.add(Dense(1024,activation='relu'))\n",
    "mlp.add(Dense(7,activation='softmax'))\n",
    "mlp.summary()\n"
   ]
  },
  {
   "cell_type": "code",
   "execution_count": 160,
   "metadata": {},
   "outputs": [],
   "source": [
    "mlp.compile(loss='categorical_crossentropy',optimizer='adam',metrics=['accuracy'])"
   ]
  },
  {
   "cell_type": "code",
   "execution_count": 161,
   "metadata": {},
   "outputs": [
    {
     "name": "stdout",
     "output_type": "stream",
     "text": [
      "Epoch 1/10\n",
      "221/225 [============================>.] - ETA: 0s - loss: 1.7746 - accuracy: 0.2791\n",
      "Epoch 00001: val_loss improved from inf to 1.74384, saving model to ..\\models\\mlp_prototype.hdf5\n",
      "225/225 [==============================] - 2s 10ms/step - loss: 1.7733 - accuracy: 0.2795 - val_loss: 1.7438 - val_accuracy: 0.3034\n",
      "Epoch 2/10\n",
      "222/225 [============================>.] - ETA: 0s - loss: 1.6917 - accuracy: 0.3308\n",
      "Epoch 00002: val_loss improved from 1.74384 to 1.66037, saving model to ..\\models\\mlp_prototype.hdf5\n",
      "225/225 [==============================] - 2s 10ms/step - loss: 1.6915 - accuracy: 0.3309 - val_loss: 1.6604 - val_accuracy: 0.3466\n",
      "Epoch 3/10\n",
      "223/225 [============================>.] - ETA: 0s - loss: 1.6553 - accuracy: 0.3485\n",
      "Epoch 00003: val_loss improved from 1.66037 to 1.63687, saving model to ..\\models\\mlp_prototype.hdf5\n",
      "225/225 [==============================] - 2s 11ms/step - loss: 1.6552 - accuracy: 0.3485 - val_loss: 1.6369 - val_accuracy: 0.3589\n",
      "Epoch 4/10\n",
      "222/225 [============================>.] - ETA: 0s - loss: 1.6381 - accuracy: 0.3557\n",
      "Epoch 00004: val_loss did not improve from 1.63687\n",
      "225/225 [==============================] - 3s 12ms/step - loss: 1.6376 - accuracy: 0.3560 - val_loss: 1.6820 - val_accuracy: 0.3405\n",
      "Epoch 5/10\n",
      "222/225 [============================>.] - ETA: 0s - loss: 1.6240 - accuracy: 0.3608\n",
      "Epoch 00005: val_loss improved from 1.63687 to 1.62355, saving model to ..\\models\\mlp_prototype.hdf5\n",
      "225/225 [==============================] - 3s 12ms/step - loss: 1.6231 - accuracy: 0.3613 - val_loss: 1.6235 - val_accuracy: 0.3656\n",
      "Epoch 6/10\n",
      "225/225 [==============================] - ETA: 0s - loss: 1.6117 - accuracy: 0.3648\n",
      "Epoch 00006: val_loss improved from 1.62355 to 1.61189, saving model to ..\\models\\mlp_prototype.hdf5\n",
      "225/225 [==============================] - 2s 11ms/step - loss: 1.6117 - accuracy: 0.3648 - val_loss: 1.6119 - val_accuracy: 0.3711\n",
      "Epoch 7/10\n",
      "221/225 [============================>.] - ETA: 0s - loss: 1.5968 - accuracy: 0.3738\n",
      "Epoch 00007: val_loss improved from 1.61189 to 1.60893, saving model to ..\\models\\mlp_prototype.hdf5\n",
      "225/225 [==============================] - 2s 11ms/step - loss: 1.5965 - accuracy: 0.3737 - val_loss: 1.6089 - val_accuracy: 0.3734\n",
      "Epoch 8/10\n",
      "224/225 [============================>.] - ETA: 0s - loss: 1.5813 - accuracy: 0.3791\n",
      "Epoch 00008: val_loss improved from 1.60893 to 1.58815, saving model to ..\\models\\mlp_prototype.hdf5\n",
      "225/225 [==============================] - 2s 11ms/step - loss: 1.5815 - accuracy: 0.3789 - val_loss: 1.5882 - val_accuracy: 0.3748\n",
      "Epoch 9/10\n",
      "223/225 [============================>.] - ETA: 0s - loss: 1.5791 - accuracy: 0.3791\n",
      "Epoch 00009: val_loss did not improve from 1.58815\n",
      "225/225 [==============================] - 3s 13ms/step - loss: 1.5797 - accuracy: 0.3789 - val_loss: 1.6033 - val_accuracy: 0.3667\n",
      "Epoch 10/10\n",
      "223/225 [============================>.] - ETA: 0s - loss: 1.5754 - accuracy: 0.3808\n",
      "Epoch 00010: val_loss improved from 1.58815 to 1.58693, saving model to ..\\models\\mlp_prototype.hdf5\n",
      "225/225 [==============================] - 2s 11ms/step - loss: 1.5758 - accuracy: 0.3811 - val_loss: 1.5869 - val_accuracy: 0.3706\n"
     ]
    }
   ],
   "source": [
    "mlp_epoch = 10\n",
    "\n",
    "mlp_checkpointer = ModelCheckpoint(filepath='..\\models\\mlp_prototype.hdf5',verbose=1,save_best_only= True)\n",
    "\n",
    "mlp_hist = mlp.fit(tr_inputs, tr_targets , \n",
    "          validation_data=(t_inputs , t_targets),\n",
    "          epochs=mlp_epoch, batch_size=128, callbacks=[mlp_checkpointer], verbose=1)"
   ]
  },
  {
   "cell_type": "code",
   "execution_count": null,
   "metadata": {},
   "outputs": [],
   "source": []
  }
 ],
 "metadata": {
  "kernelspec": {
   "display_name": "Python 3",
   "language": "python",
   "name": "python3"
  },
  "language_info": {
   "codemirror_mode": {
    "name": "ipython",
    "version": 3
   },
   "file_extension": ".py",
   "mimetype": "text/x-python",
   "name": "python",
   "nbconvert_exporter": "python",
   "pygments_lexer": "ipython3",
   "version": "3.7.0"
  }
 },
 "nbformat": 4,
 "nbformat_minor": 4
}
