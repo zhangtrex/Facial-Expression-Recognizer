{
 "cells": [
  {
   "cell_type": "markdown",
   "metadata": {
    "id": "8oh8xVaYj2VP"
   },
   "source": [
    "<h2>Load inputs and targets from fer2013.csv</h2>\n",
    "<h4>Need fer2013.csv on your hard drive (or google drive) </h4>"
   ]
  },
  {
   "cell_type": "code",
   "execution_count": null,
   "metadata": {
    "colab": {
     "base_uri": "https://localhost:8080/"
    },
    "id": "f8hv4F91kA3m",
    "outputId": "7a0bd5a6-8508-4b95-f9d1-9a2324f52d5d"
   },
   "outputs": [],
   "source": [
    "# if you are using google drive\n",
    "from google.colab import drive\n",
    "drive.mount('/content/drive')"
   ]
  },
  {
   "cell_type": "code",
   "execution_count": null,
   "metadata": {
    "id": "BUR1W5lJj2VP"
   },
   "outputs": [],
   "source": [
    "import pandas as pd\n",
    "import numpy as np\n",
    "\n",
    "\n",
    "names=['emotion','pixels','usage']\n",
    "\n",
    "# you may need to change this file path\n",
    "df=pd.read_csv('../fer2013.csv',names=names, na_filter=False)\n",
    "train_df = df[df['usage']=='Training']\n",
    "validate_df = df[df['usage']=='PublicTest']\n",
    "test_df = df[df['usage']=='PrivateTest']"
   ]
  },
  {
   "cell_type": "code",
   "execution_count": null,
   "metadata": {
    "id": "5oX5fVZcj2VT"
   },
   "outputs": [],
   "source": [
    "# from skimage.transform import resize\n",
    "def load_from_df(df):\n",
    "    imgs = df['pixels']\n",
    "    t = df['emotion']\n",
    "    inputs = []\n",
    "    targets = []\n",
    "    for i in imgs.keys():\n",
    "        x = [int(p) for p in imgs[i].split()]\n",
    "        x = np.reshape(x,(48,48))\n",
    "        # resize_x = resize(x, (112, 112), preserve_range=True)\n",
    "        y = [0 for i in range(7)]\n",
    "        y[int(t[i])] = 1\n",
    "        inputs.append(x)\n",
    "        targets.append(y)\n",
    "    inputs = np.array(inputs,dtype=np.float32)\n",
    "    inputs = np.expand_dims(inputs,axis=3)\n",
    "    inputs /= 255\n",
    "    targets = np.array(targets, dtype=np.float32)\n",
    "    return inputs, targets"
   ]
  },
  {
   "cell_type": "code",
   "execution_count": null,
   "metadata": {
    "id": "6_rCiYKZj2VV"
   },
   "outputs": [],
   "source": [
    "v_inputs, v_targets = load_from_df(validate_df)\n",
    "t_inputs, t_targets = load_from_df(test_df)\n",
    "tr_inputs, tr_targets = load_from_df(train_df)"
   ]
  },
  {
   "cell_type": "code",
   "execution_count": null,
   "metadata": {
    "id": "R3O8TgRIj2VY"
   },
   "outputs": [],
   "source": []
  },
  {
   "cell_type": "code",
   "execution_count": null,
   "metadata": {
    "id": "xCDLng3YS4lz"
   },
   "outputs": [],
   "source": []
  },
  {
   "cell_type": "markdown",
   "metadata": {
    "id": "tsa599bdj2Vb"
   },
   "source": [
    "###Base model"
   ]
  },
  {
   "cell_type": "code",
   "execution_count": null,
   "metadata": {
    "colab": {
     "base_uri": "https://localhost:8080/"
    },
    "id": "T_FmhLE_j2Vc",
    "outputId": "9326f899-360d-4ac9-9af8-a1de6e85e249"
   },
   "outputs": [],
   "source": [
    "from keras.utils import np_utils\n",
    "from keras.models import Sequential\n",
    "from keras.layers import Conv2D, MaxPooling2D, Flatten, Dense, Dropout\n",
    "\n",
    "proto = Sequential()\n",
    "\n",
    "proto.add(Conv2D(filters=32,kernel_size=2,padding='same',activation='relu',input_shape=(48,48,1)))\n",
    "proto.add(MaxPooling2D(pool_size=2))\n",
    "proto.add(Conv2D(filters=64,kernel_size=2,padding='same',activation='relu'))\n",
    "proto.add(MaxPooling2D(pool_size=2))\n",
    "proto.add(Conv2D(filters=128,kernel_size=2,padding='same',activation='relu'))\n",
    "proto.add(MaxPooling2D(pool_size=2))\n",
    "proto.add(Flatten())\n",
    "proto.add(Dense(256,activation='relu'))\n",
    "proto.add(Dense(512,activation='relu'))\n",
    "proto.add(Dense(7,activation='softmax'))\n",
    "\n",
    "proto.summary()"
   ]
  },
  {
   "cell_type": "markdown",
   "metadata": {
    "id": "CikBHCY2j2Vg"
   },
   "source": [
    "Compile"
   ]
  },
  {
   "cell_type": "code",
   "execution_count": null,
   "metadata": {
    "id": "odRnY0Gtj2Vg"
   },
   "outputs": [],
   "source": [
    "proto.compile(loss='categorical_crossentropy',optimizer='adam',metrics=['accuracy'])"
   ]
  },
  {
   "cell_type": "markdown",
   "metadata": {
    "id": "t8c5l-nmj2Vj"
   },
   "source": [
    "train model"
   ]
  },
  {
   "cell_type": "code",
   "execution_count": null,
   "metadata": {
    "colab": {
     "base_uri": "https://localhost:8080/"
    },
    "id": "P2r1QmlHj2Vj",
    "outputId": "927066a3-8f58-4317-a4ef-d9033fd92d73"
   },
   "outputs": [],
   "source": [
    "from keras.callbacks import ModelCheckpoint\n",
    "\n",
    "epoch = 50\n",
    "\n",
    "checkpointer = ModelCheckpoint(filepath='mycnn_prototype.hdf5',verbose=1,save_best_only= True)\n",
    "\n",
    "hist = proto.fit(tr_inputs, tr_targets , \n",
    "          validation_data=(v_inputs , v_targets),\n",
    "          epochs= epoch, batch_size=128, callbacks=[checkpointer], verbose=1)"
   ]
  },
  {
   "cell_type": "code",
   "execution_count": null,
   "metadata": {
    "id": "AKuh-1q4j2Vo"
   },
   "outputs": [],
   "source": [
    "from keras.utils import np_utils\n",
    "from keras.models import Sequential\n",
    "from keras.layers import Conv2D, MaxPooling2D, Flatten, Dense, Dropout\n",
    "\n",
    "proto_dropout = Sequential()\n",
    "\n",
    "proto_dropout.add(Conv2D(filters=32,kernel_size=2,padding='same',activation='relu',input_shape=(48,48,1)))\n",
    "proto_dropout.add(MaxPooling2D(pool_size=2))\n",
    "proto_dropout.add(Dropout(0.2))\n",
    "proto_dropout.add(Conv2D(filters=64,kernel_size=2,padding='same',activation='relu'))\n",
    "proto_dropout.add(MaxPooling2D(pool_size=2))\n",
    "proto_dropout.add(Dropout(0.2))\n",
    "proto_dropout.add(Conv2D(filters=128,kernel_size=2,padding='same',activation='relu'))\n",
    "proto_dropout.add(MaxPooling2D(pool_size=2))\n",
    "proto_dropout.add(Dropout(0.2))\n",
    "proto_dropout.add(Flatten())\n",
    "proto_dropout.add(Dense(256,activation='relu'))\n",
    "proto_dropout.add(Dropout(0.2))\n",
    "proto_dropout.add(Dense(512,activation='relu'))\n",
    "proto_dropout.add(Dropout(0.2))\n",
    "proto_dropout.add(Dense(7,activation='softmax'))\n",
    "\n",
    "# proto_dropout.summary()"
   ]
  },
  {
   "cell_type": "code",
   "execution_count": null,
   "metadata": {
    "id": "FuaEvVeBdQTN"
   },
   "outputs": [],
   "source": [
    "proto_dropout.compile(loss='categorical_crossentropy',optimizer='adam',metrics=['accuracy'])"
   ]
  },
  {
   "cell_type": "code",
   "execution_count": null,
   "metadata": {
    "colab": {
     "base_uri": "https://localhost:8080/"
    },
    "id": "IreE3r3adQdR",
    "outputId": "ad7135fd-2dc5-4ebb-97c2-abe318f796e5"
   },
   "outputs": [],
   "source": [
    "from keras.callbacks import ModelCheckpoint\n",
    "\n",
    "epoch = 50\n",
    "\n",
    "checkpointer_dropout = ModelCheckpoint(filepath='mycnn_dropout.hdf5',verbose=1,save_best_only= True)\n",
    "\n",
    "hist_dropout = proto_dropout.fit(tr_inputs, tr_targets , \n",
    "          validation_data=(v_inputs , v_targets),\n",
    "          epochs= epoch, batch_size=128, callbacks=[checkpointer_dropout], verbose=1)"
   ]
  },
  {
   "cell_type": "code",
   "execution_count": null,
   "metadata": {
    "id": "4lJzkgU8ihAV"
   },
   "outputs": [],
   "source": [
    "from keras.utils import np_utils\n",
    "from keras.models import Sequential\n",
    "from keras.layers import Conv2D, MaxPooling2D, Flatten, Dense, Dropout, BatchNormalization\n",
    "\n",
    "proto_batchnorm = Sequential()\n",
    "\n",
    "proto_batchnorm.add(Conv2D(filters=32,kernel_size=2,padding='same',activation='relu',input_shape=(48,48,1)))\n",
    "proto_batchnorm.add(BatchNormalization())\n",
    "proto_batchnorm.add(MaxPooling2D(pool_size=2))\n",
    "proto_batchnorm.add(Conv2D(filters=64,kernel_size=2,padding='same',activation='relu'))\n",
    "proto_batchnorm.add(BatchNormalization())\n",
    "proto_batchnorm.add(MaxPooling2D(pool_size=2))\n",
    "proto_batchnorm.add(Conv2D(filters=128,kernel_size=2,padding='same',activation='relu'))\n",
    "proto_batchnorm.add(BatchNormalization())\n",
    "proto_batchnorm.add(MaxPooling2D(pool_size=2))\n",
    "proto_batchnorm.add(Flatten())\n",
    "proto_batchnorm.add(Dense(256,activation='relu'))\n",
    "proto_batchnorm.add(BatchNormalization())\n",
    "proto_batchnorm.add(Dense(512,activation='relu'))\n",
    "proto_batchnorm.add(BatchNormalization())\n",
    "proto_batchnorm.add(Dense(7,activation='softmax'))\n",
    "\n",
    "# proto_batchnorm.summary()"
   ]
  },
  {
   "cell_type": "code",
   "execution_count": null,
   "metadata": {
    "id": "aZNP3NwIihFG"
   },
   "outputs": [],
   "source": [
    "proto_batchnorm.compile(loss='categorical_crossentropy',optimizer='adam',metrics=['accuracy'])"
   ]
  },
  {
   "cell_type": "code",
   "execution_count": null,
   "metadata": {
    "colab": {
     "base_uri": "https://localhost:8080/"
    },
    "id": "hu9GdGW0ihI2",
    "outputId": "84594a20-e977-40fe-a266-b4e44a8f994d"
   },
   "outputs": [],
   "source": [
    "from keras.callbacks import ModelCheckpoint\n",
    "\n",
    "epoch = 50\n",
    "\n",
    "checkpointer_batchnorm = ModelCheckpoint(filepath='mycnn_batchnorm.hdf5',verbose=1,save_best_only= True)\n",
    "\n",
    "hist_batchnorm = proto_batchnorm.fit(tr_inputs, tr_targets , \n",
    "          validation_data=(v_inputs , v_targets),\n",
    "          epochs= epoch, batch_size=128, callbacks=[checkpointer_batchnorm], verbose=1)"
   ]
  },
  {
   "cell_type": "code",
   "execution_count": null,
   "metadata": {
    "id": "I-8jmhOhj7el"
   },
   "outputs": [],
   "source": [
    "from keras.utils import np_utils\n",
    "from keras.models import Sequential\n",
    "from keras.layers import Conv2D, MaxPooling2D, Flatten, Dense, Dropout, BatchNormalization\n",
    "\n",
    "proto_both = Sequential()\n",
    "\n",
    "proto_both.add(Conv2D(filters=32,kernel_size=2,padding='same',activation='relu',input_shape=(48,48,1)))\n",
    "proto_both.add(BatchNormalization())\n",
    "proto_both.add(MaxPooling2D(pool_size=2))\n",
    "proto_both.add(Dropout(0.2))\n",
    "proto_both.add(Conv2D(filters=64,kernel_size=2,padding='same',activation='relu'))\n",
    "proto_both.add(BatchNormalization())\n",
    "proto_both.add(MaxPooling2D(pool_size=2))\n",
    "proto_both.add(Dropout(0.2))\n",
    "proto_both.add(Conv2D(filters=128,kernel_size=2,padding='same',activation='relu'))\n",
    "proto_both.add(BatchNormalization())\n",
    "proto_both.add(MaxPooling2D(pool_size=2))\n",
    "proto_both.add(Dropout(0.2))\n",
    "proto_both.add(Flatten())\n",
    "proto_both.add(Dense(256,activation='relu'))\n",
    "proto_both.add(BatchNormalization())\n",
    "proto_both.add(Dropout(0.2))\n",
    "proto_both.add(Dense(512,activation='relu'))\n",
    "proto_both.add(BatchNormalization())\n",
    "proto_both.add(Dropout(0.2))\n",
    "proto_both.add(Dense(7,activation='softmax'))\n"
   ]
  },
  {
   "cell_type": "code",
   "execution_count": null,
   "metadata": {
    "id": "z_4BK2kKj7kY"
   },
   "outputs": [],
   "source": [
    "proto_both.compile(loss='categorical_crossentropy',optimizer='adam',metrics=['accuracy'])"
   ]
  },
  {
   "cell_type": "code",
   "execution_count": null,
   "metadata": {
    "colab": {
     "base_uri": "https://localhost:8080/"
    },
    "id": "xWDpt9BNj7mL",
    "outputId": "fa249ee9-8c70-40f4-ab7d-f8406338dbd4"
   },
   "outputs": [],
   "source": [
    "from keras.callbacks import ModelCheckpoint\n",
    "\n",
    "epoch = 50\n",
    "\n",
    "checkpointer_both = ModelCheckpoint(filepath='mycnn_both.hdf5',verbose=1,save_best_only= True)\n",
    "\n",
    "hist_both = proto_both.fit(tr_inputs, tr_targets , \n",
    "          validation_data=(v_inputs , v_targets),\n",
    "          epochs= epoch, batch_size=128, callbacks=[checkpointer_both], verbose=1)"
   ]
  },
  {
   "cell_type": "code",
   "execution_count": null,
   "metadata": {
    "colab": {
     "base_uri": "https://localhost:8080/"
    },
    "id": "00nooGYZOrtc",
    "outputId": "94dbbc81-ef42-4048-d7c8-39134d850145"
   },
   "outputs": [],
   "source": [
    "from keras.models import load_model\n",
    "loaded = load_model(\"mycnn_prototype.hdf5\")\n",
    "scores = loaded.evaluate(t_inputs, t_targets)\n",
    "print(scores[1])\n",
    "\n",
    "loaded = load_model(\"mycnn_dropout.hdf5\")\n",
    "scores = loaded.evaluate(t_inputs, t_targets)\n",
    "print(scores[1])\n",
    "\n",
    "loaded = load_model(\"mycnn_batchnorm.hdf5\")\n",
    "scores = loaded.evaluate(t_inputs, t_targets)\n",
    "print(scores[1])\n",
    "\n",
    "loaded = load_model(\"mycnn_both.hdf5\")\n",
    "scores = loaded.evaluate(t_inputs, t_targets)\n",
    "print(scores[1])"
   ]
  },
  {
   "cell_type": "code",
   "execution_count": null,
   "metadata": {
    "colab": {
     "base_uri": "https://localhost:8080/",
     "height": 561
    },
    "id": "aT2kXGR9Or9p",
    "outputId": "c6245ede-b95d-46d0-c9e6-9ffc60dc119b"
   },
   "outputs": [],
   "source": [
    "import matplotlib.pyplot as plt\n",
    "plt.plot(hist.history['val_loss'], label='base model')\n",
    "plt.plot(hist_dropout.history['val_loss'], label='with dropout')\n",
    "plt.plot(hist_batchnorm.history['val_loss'], label='with batch norm')\n",
    "plt.plot(hist_both.history['val_loss'], label='with both')\n",
    "\n",
    "plt.legend(loc=\"upper left\")\n",
    "plt.xlabel(\"epochs\")\n",
    "plt.ylabel(\"validation losses\")\n",
    "plt.show()\n",
    "\n",
    "plt.clf()\n",
    "plt.plot(hist.history['val_accuracy'], label='base model')\n",
    "plt.plot(hist_dropout.history['val_accuracy'], label='with dropout')\n",
    "plt.plot(hist_batchnorm.history['val_accuracy'], label='with batch norm')\n",
    "plt.plot(hist_both.history['val_accuracy'], label='with both')\n",
    "plt.legend(loc=\"lower right\")\n",
    "plt.xlabel(\"epochs\")\n",
    "plt.ylabel(\"validation accuracy\")\n"
   ]
  },
  {
   "cell_type": "markdown",
   "metadata": {
    "id": "YgDckS8BOsMz"
   },
   "source": [
    "#Test dropout"
   ]
  },
  {
   "cell_type": "code",
   "execution_count": null,
   "metadata": {
    "id": "9nZEko5rYpTq"
   },
   "outputs": [],
   "source": [
    "from keras.utils import np_utils\n",
    "from keras.models import Sequential\n",
    "from keras.layers import Conv2D, MaxPooling2D, Flatten, Dense, Dropout\n",
    "\n",
    "dropout1 = Sequential()\n",
    "\n",
    "dropout1.add(Conv2D(filters=32,kernel_size=2,padding='same',activation='relu',input_shape=(48,48,1)))\n",
    "dropout1.add(BatchNormalization())\n",
    "dropout1.add(MaxPooling2D(pool_size=2))\n",
    "dropout1.add(Dropout(0.1))\n",
    "dropout1.add(Conv2D(filters=64,kernel_size=2,padding='same',activation='relu'))\n",
    "dropout1.add(BatchNormalization())\n",
    "dropout1.add(MaxPooling2D(pool_size=2))\n",
    "dropout1.add(Dropout(0.1))\n",
    "dropout1.add(Conv2D(filters=128,kernel_size=2,padding='same',activation='relu'))\n",
    "dropout1.add(BatchNormalization())\n",
    "dropout1.add(MaxPooling2D(pool_size=2))\n",
    "dropout1.add(Dropout(0.1))\n",
    "dropout1.add(Flatten())\n",
    "dropout1.add(Dense(256,activation='relu'))\n",
    "dropout1.add(BatchNormalization())\n",
    "dropout1.add(Dropout(0.1))\n",
    "dropout1.add(Dense(512,activation='relu'))\n",
    "dropout1.add(BatchNormalization())\n",
    "dropout1.add(Dropout(0.1))\n",
    "dropout1.add(Dense(7,activation='softmax'))"
   ]
  },
  {
   "cell_type": "code",
   "execution_count": null,
   "metadata": {
    "id": "X-5wAnyfYpXG"
   },
   "outputs": [],
   "source": [
    "dropout1.compile(loss='categorical_crossentropy',optimizer='adam',metrics=['accuracy'])"
   ]
  },
  {
   "cell_type": "code",
   "execution_count": null,
   "metadata": {
    "colab": {
     "base_uri": "https://localhost:8080/"
    },
    "id": "4mIGige9YpaI",
    "outputId": "4b58e278-4ac8-4d71-e652-aa162c53eae5"
   },
   "outputs": [],
   "source": [
    "from keras.callbacks import ModelCheckpoint\n",
    "\n",
    "epoch = 100\n",
    "\n",
    "checkpointer_dropout1 = ModelCheckpoint(filepath='dropout1.hdf5',verbose=1,save_best_only= True)\n",
    "\n",
    "hist_dropout1 = dropout1.fit(tr_inputs, tr_targets , \n",
    "          validation_data=(v_inputs , v_targets),\n",
    "          epochs= epoch, batch_size=128, callbacks=[checkpointer_dropout1], verbose=1)"
   ]
  },
  {
   "cell_type": "code",
   "execution_count": null,
   "metadata": {
    "id": "8OkjDzxQeOSS"
   },
   "outputs": [],
   "source": [
    "from keras.utils import np_utils\n",
    "from keras.models import Sequential\n",
    "from keras.layers import Conv2D, MaxPooling2D, Flatten, Dense, Dropout\n",
    "\n",
    "dropout2 = Sequential()\n",
    "\n",
    "dropout2.add(Conv2D(filters=32,kernel_size=2,padding='same',activation='relu',input_shape=(48,48,1)))\n",
    "dropout2.add(BatchNormalization())\n",
    "dropout2.add(MaxPooling2D(pool_size=2))\n",
    "dropout2.add(Dropout(0.2))\n",
    "dropout2.add(Conv2D(filters=64,kernel_size=2,padding='same',activation='relu'))\n",
    "dropout2.add(BatchNormalization())\n",
    "dropout2.add(MaxPooling2D(pool_size=2))\n",
    "dropout2.add(Dropout(0.2))\n",
    "dropout2.add(Conv2D(filters=128,kernel_size=2,padding='same',activation='relu'))\n",
    "dropout2.add(BatchNormalization())\n",
    "dropout2.add(MaxPooling2D(pool_size=2))\n",
    "dropout2.add(Dropout(0.2))\n",
    "dropout2.add(Flatten())\n",
    "dropout2.add(Dense(256,activation='relu'))\n",
    "dropout2.add(BatchNormalization())\n",
    "dropout2.add(Dropout(0.2))\n",
    "dropout2.add(Dense(512,activation='relu'))\n",
    "dropout2.add(BatchNormalization())\n",
    "dropout2.add(Dropout(0.2))\n",
    "dropout2.add(Dense(7,activation='softmax'))\n"
   ]
  },
  {
   "cell_type": "code",
   "execution_count": null,
   "metadata": {
    "id": "koyL2YaZeOUi"
   },
   "outputs": [],
   "source": [
    "dropout2.compile(loss='categorical_crossentropy',optimizer='adam',metrics=['accuracy'])"
   ]
  },
  {
   "cell_type": "code",
   "execution_count": null,
   "metadata": {
    "colab": {
     "base_uri": "https://localhost:8080/"
    },
    "id": "WyH17mzzeOW9",
    "outputId": "3f1a6c2c-dfdb-41da-9cf7-46ae50d00a5e"
   },
   "outputs": [],
   "source": [
    "from keras.callbacks import ModelCheckpoint\n",
    "\n",
    "epoch = 100\n",
    "\n",
    "checkpointer_dropout2 = ModelCheckpoint(filepath='dropout2.hdf5',verbose=1,save_best_only= True)\n",
    "\n",
    "hist_dropout2 = dropout2.fit(tr_inputs, tr_targets , \n",
    "          validation_data=(v_inputs , v_targets),\n",
    "          epochs= epoch, batch_size=128, callbacks=[checkpointer_dropout2], verbose=1)"
   ]
  },
  {
   "cell_type": "code",
   "execution_count": null,
   "metadata": {
    "id": "M8F6tX7mEps5"
   },
   "outputs": [],
   "source": [
    "from keras.utils import np_utils\n",
    "from keras.models import Sequential\n",
    "from keras.layers import Conv2D, MaxPooling2D, Flatten, Dense, Dropout\n",
    "\n",
    "dropout3 = Sequential()\n",
    "\n",
    "dropout3.add(Conv2D(filters=32,kernel_size=2,padding='same',activation='relu',input_shape=(48,48,1)))\n",
    "dropout3.add(BatchNormalization())\n",
    "dropout3.add(MaxPooling2D(pool_size=2))\n",
    "dropout3.add(Dropout(0.3))\n",
    "dropout3.add(Conv2D(filters=64,kernel_size=2,padding='same',activation='relu'))\n",
    "dropout3.add(BatchNormalization())\n",
    "dropout3.add(MaxPooling2D(pool_size=2))\n",
    "dropout3.add(Dropout(0.3))\n",
    "dropout3.add(Conv2D(filters=128,kernel_size=2,padding='same',activation='relu'))\n",
    "dropout3.add(BatchNormalization())\n",
    "dropout3.add(MaxPooling2D(pool_size=2))\n",
    "dropout3.add(Dropout(0.3))\n",
    "dropout3.add(Flatten())\n",
    "dropout3.add(Dense(256,activation='relu'))\n",
    "dropout3.add(BatchNormalization())\n",
    "dropout3.add(Dropout(0.3))\n",
    "dropout3.add(Dense(512,activation='relu'))\n",
    "dropout3.add(BatchNormalization())\n",
    "dropout3.add(Dropout(0.3))\n",
    "dropout3.add(Dense(7,activation='softmax'))\n",
    "\n"
   ]
  },
  {
   "cell_type": "code",
   "execution_count": null,
   "metadata": {
    "id": "LUg20h1WEpxK"
   },
   "outputs": [],
   "source": [
    "from keras.optimizers import Adam\n",
    "\n",
    "dropout3.compile(loss='categorical_crossentropy',optimizer=\"adam\",metrics=['accuracy'])"
   ]
  },
  {
   "cell_type": "code",
   "execution_count": null,
   "metadata": {
    "colab": {
     "base_uri": "https://localhost:8080/"
    },
    "id": "ONE-xYH3Ep1U",
    "outputId": "cf7868d7-3f13-48b1-984c-08414d92070b"
   },
   "outputs": [],
   "source": [
    "from keras.callbacks import ModelCheckpoint\n",
    "\n",
    "epoch = 100\n",
    "\n",
    "checkpointer_dropout3 = ModelCheckpoint(filepath='dropout3.hdf5',verbose=1,save_best_only= True)\n",
    "\n",
    "hist_dropout3 = dropout3.fit(tr_inputs, tr_targets , \n",
    "          validation_data=(v_inputs , v_targets),\n",
    "          epochs= epoch, batch_size=128, callbacks=[checkpointer_dropout3], verbose=1)"
   ]
  },
  {
   "cell_type": "code",
   "execution_count": null,
   "metadata": {
    "id": "wGrcf8RdEp9v"
   },
   "outputs": [],
   "source": [
    "from keras.utils import np_utils\n",
    "from keras.models import Sequential\n",
    "from keras.layers import Conv2D, MaxPooling2D, Flatten, Dense, Dropout\n",
    "\n",
    "dropout4 = Sequential()\n",
    "\n",
    "dropout4.add(Conv2D(filters=32,kernel_size=2,padding='same',activation='relu',input_shape=(48,48,1)))\n",
    "dropout4.add(BatchNormalization())\n",
    "dropout4.add(MaxPooling2D(pool_size=2))\n",
    "dropout4.add(Dropout(0.4))\n",
    "dropout4.add(Conv2D(filters=64,kernel_size=2,padding='same',activation='relu'))\n",
    "dropout4.add(BatchNormalization())\n",
    "dropout4.add(MaxPooling2D(pool_size=2))\n",
    "dropout4.add(Dropout(0.4))\n",
    "dropout4.add(Conv2D(filters=128,kernel_size=2,padding='same',activation='relu'))\n",
    "dropout4.add(BatchNormalization())\n",
    "dropout4.add(MaxPooling2D(pool_size=2))\n",
    "dropout4.add(Dropout(0.4))\n",
    "dropout4.add(Flatten())\n",
    "dropout4.add(Dense(256,activation='relu'))\n",
    "dropout4.add(BatchNormalization())\n",
    "dropout4.add(Dropout(0.4))\n",
    "dropout4.add(Dense(512,activation='relu'))\n",
    "dropout4.add(BatchNormalization())\n",
    "dropout4.add(Dropout(0.4))\n",
    "dropout4.add(Dense(7,activation='softmax'))"
   ]
  },
  {
   "cell_type": "code",
   "execution_count": null,
   "metadata": {
    "id": "ui6k087bEqCs"
   },
   "outputs": [],
   "source": [
    "from keras.optimizers import Adam\n",
    "\n",
    "dropout4.compile(loss='categorical_crossentropy',optimizer=\"adam\",metrics=['accuracy'])"
   ]
  },
  {
   "cell_type": "code",
   "execution_count": null,
   "metadata": {
    "colab": {
     "base_uri": "https://localhost:8080/"
    },
    "id": "iQ_AcLskEqA2",
    "outputId": "6d02301d-c49c-4d6e-c2ba-332094ddef13"
   },
   "outputs": [],
   "source": [
    "from keras.callbacks import ModelCheckpoint\n",
    "\n",
    "epoch = 100\n",
    "\n",
    "checkpointer_dropout4 = ModelCheckpoint(filepath='dropout4.hdf5',verbose=1,save_best_only= True)\n",
    "\n",
    "hist_dropout4 = dropout4.fit(tr_inputs, tr_targets , \n",
    "          validation_data=(v_inputs , v_targets),\n",
    "          epochs= epoch, batch_size=128, callbacks=[checkpointer_dropout4], verbose=1)"
   ]
  },
  {
   "cell_type": "code",
   "execution_count": null,
   "metadata": {
    "colab": {
     "base_uri": "https://localhost:8080/"
    },
    "id": "WciJr88aZTU5",
    "outputId": "38a67df0-6a47-458f-b0e6-b36b1a780614"
   },
   "outputs": [],
   "source": [
    "from keras.models import load_model\n",
    "loaded = load_model(\"dropout1.hdf5\")\n",
    "scores = loaded.evaluate(t_inputs, t_targets)\n",
    "print(scores[1])\n",
    "\n",
    "loaded = load_model(\"dropout2.hdf5\")\n",
    "scores = loaded.evaluate(t_inputs, t_targets)\n",
    "print(scores[1])\n",
    "\n",
    "loaded = load_model(\"dropout3.hdf5\")\n",
    "scores = loaded.evaluate(t_inputs, t_targets)\n",
    "print(scores[1])\n",
    "\n",
    "loaded = load_model(\"dropout4.hdf5\")\n",
    "scores = loaded.evaluate(t_inputs, t_targets)\n",
    "print(scores[1])"
   ]
  },
  {
   "cell_type": "code",
   "execution_count": null,
   "metadata": {
    "colab": {
     "base_uri": "https://localhost:8080/",
     "height": 559
    },
    "id": "vD03KLPUZTaR",
    "outputId": "ceeed06e-d3c0-4500-eb22-ba8c9fe67d4d"
   },
   "outputs": [],
   "source": [
    "import matplotlib.pyplot as plt\n",
    "plt.plot(hist_dropout1.history['val_loss'], label='dropout rate 0.1')\n",
    "plt.plot(hist_dropout2.history['val_loss'], label='dropout rate 0.2')\n",
    "plt.plot(hist_dropout3.history['val_loss'], label='dropout rate 0.3')\n",
    "plt.plot(hist_dropout4.history['val_loss'], label='dropout rate 0.4')\n",
    "\n",
    "plt.legend(loc=\"upper left\")\n",
    "plt.xlabel(\"epochs\")\n",
    "plt.ylabel(\"validation losses\")\n",
    "plt.show()\n",
    "\n",
    "plt.clf()\n",
    "plt.plot(hist_dropout1.history['val_accuracy'], label='dropout rate 0.1')\n",
    "plt.plot(hist_dropout2.history['val_accuracy'], label='dropout rate 0.2')\n",
    "plt.plot(hist_dropout3.history['val_accuracy'], label='dropout rate 0.3')\n",
    "plt.plot(hist_dropout4.history['val_accuracy'], label='dropout rate 0.4')\n",
    "plt.legend(loc=\"lower right\")\n",
    "plt.xlabel(\"epochs\")\n",
    "plt.ylabel(\"validation accuracy\")"
   ]
  },
  {
   "cell_type": "code",
   "execution_count": null,
   "metadata": {
    "id": "15aTlwHKmUzM"
   },
   "outputs": [],
   "source": [
    "from keras.utils import np_utils\n",
    "from keras.models import Sequential\n",
    "from keras.layers import Conv2D, MaxPooling2D, Flatten, Dense, Dropout\n",
    "\n",
    "dropoutf = Sequential()\n",
    "\n",
    "dropoutf.add(Conv2D(filters=32,kernel_size=2,padding='same',activation='relu',input_shape=(48,48,1)))\n",
    "dropoutf.add(BatchNormalization())\n",
    "dropoutf.add(MaxPooling2D(pool_size=2))\n",
    "dropoutf.add(Dropout(0.35))\n",
    "dropoutf.add(Conv2D(filters=64,kernel_size=2,padding='same',activation='relu'))\n",
    "dropoutf.add(BatchNormalization())\n",
    "dropoutf.add(MaxPooling2D(pool_size=2))\n",
    "dropoutf.add(Dropout(0.35))\n",
    "dropoutf.add(Conv2D(filters=128,kernel_size=2,padding='same',activation='relu'))\n",
    "dropoutf.add(BatchNormalization())\n",
    "dropoutf.add(MaxPooling2D(pool_size=2))\n",
    "dropoutf.add(Dropout(0.35))\n",
    "dropoutf.add(Flatten())\n",
    "dropoutf.add(Dense(256,activation='relu'))\n",
    "dropoutf.add(BatchNormalization())\n",
    "dropoutf.add(Dropout(0.35))\n",
    "dropoutf.add(Dense(512,activation='relu'))\n",
    "dropoutf.add(BatchNormalization())\n",
    "dropoutf.add(Dropout(0.35))\n",
    "dropoutf.add(Dense(7,activation='softmax'))"
   ]
  },
  {
   "cell_type": "code",
   "execution_count": null,
   "metadata": {
    "id": "enXj8hF3mU3C"
   },
   "outputs": [],
   "source": [
    "from keras.optimizers import Adam\n",
    "\n",
    "dropoutf.compile(loss='categorical_crossentropy',optimizer=\"adam\",metrics=['accuracy'])"
   ]
  },
  {
   "cell_type": "code",
   "execution_count": null,
   "metadata": {
    "colab": {
     "base_uri": "https://localhost:8080/"
    },
    "id": "iGZcGrlUmU6N",
    "outputId": "eb5fdd45-97d8-4e2e-800a-7188ff2ee9a1"
   },
   "outputs": [],
   "source": [
    "from keras.callbacks import ModelCheckpoint\n",
    "\n",
    "epoch = 100\n",
    "\n",
    "checkpointer_dropoutf = ModelCheckpoint(filepath='dropoutf.hdf5',verbose=1,save_best_only= True)\n",
    "\n",
    "hist_dropoutf = dropoutf.fit(tr_inputs, tr_targets , \n",
    "          validation_data=(v_inputs , v_targets),\n",
    "          epochs= epoch, batch_size=128, callbacks=[checkpointer_dropoutf], verbose=1)"
   ]
  },
  {
   "cell_type": "code",
   "execution_count": null,
   "metadata": {
    "colab": {
     "base_uri": "https://localhost:8080/"
    },
    "id": "jvWax29Jn03L",
    "outputId": "d7ce39df-2b7a-4f5a-b9c1-5499c4d4ad72"
   },
   "outputs": [],
   "source": [
    "loaded = load_model(\"dropoutf.hdf5\")\n",
    "scores = loaded.evaluate(t_inputs, t_targets)\n",
    "print(scores[1])"
   ]
  },
  {
   "cell_type": "markdown",
   "metadata": {
    "id": "qle7DkoeZUmn"
   },
   "source": [
    "#Test kernel number and neuron number\n",
    "\n"
   ]
  },
  {
   "cell_type": "code",
   "execution_count": null,
   "metadata": {
    "id": "19qUban0Epvm"
   },
   "outputs": [],
   "source": []
  },
  {
   "cell_type": "code",
   "execution_count": null,
   "metadata": {
    "id": "-pbfLI4_j2Vs"
   },
   "outputs": [],
   "source": [
    "from keras.utils import np_utils\n",
    "from keras.models import Sequential\n",
    "from keras.layers import Conv2D, MaxPooling2D, Flatten, Dense, Dropout, BatchNormalization, Activation\n",
    "from keras import layers\n",
    "\n",
    "model = Sequential()\n",
    "model.add(Conv2D(filters=64,kernel_size=2,padding='same',activation='relu',input_shape=(48,48,1)))\n",
    "model.add(BatchNormalization())\n",
    "model.add(MaxPooling2D(pool_size=2))\n",
    "model.add(Dropout(0.35))\n",
    "model.add(Conv2D(filters=128,kernel_size=2,padding='same',activation='relu'))\n",
    "model.add(BatchNormalization())\n",
    "model.add(MaxPooling2D(pool_size=2))\n",
    "model.add(Dropout(0.35))\n",
    "model.add(Conv2D(filters=256,kernel_size=2,padding='same',activation='relu'))\n",
    "model.add(BatchNormalization())\n",
    "model.add(MaxPooling2D(pool_size=2))\n",
    "model.add(Dropout(0.35))\n",
    "model.add(Flatten())\n",
    "model.add(Dense(256,activation='relu'))\n",
    "model.add(BatchNormalization())\n",
    "model.add(Dropout(0.35))\n",
    "model.add(Dense(512,activation='relu'))\n",
    "model.add(BatchNormalization())\n",
    "model.add(Dropout(0.35))\n",
    "model.add(Dense(7,activation='softmax'))\n",
    "# model.summary()"
   ]
  },
  {
   "cell_type": "code",
   "execution_count": null,
   "metadata": {
    "id": "clwQRjONj2Vw"
   },
   "outputs": [],
   "source": [
    "from keras.optimizers import Adam\n",
    "import keras\n",
    "opt = Adam(lr=0.001)\n",
    "\n",
    "model.compile(loss='categorical_crossentropy',optimizer='adam',metrics=['accuracy'])"
   ]
  },
  {
   "cell_type": "code",
   "execution_count": null,
   "metadata": {
    "colab": {
     "base_uri": "https://localhost:8080/"
    },
    "id": "r-3IgfEfj2V0",
    "outputId": "62840813-8d3a-4db0-9eb2-ef22a636f825"
   },
   "outputs": [],
   "source": [
    "from keras.callbacks import ModelCheckpoint\n",
    "\n",
    "epoch = 50\n",
    "\n",
    "checkpointer_double_layer = ModelCheckpoint(filepath='double_layer.hdf5',verbose=1,save_best_only= True)\n",
    "\n",
    "hist_double_layer = model.fit(tr_inputs, tr_targets , \n",
    "          validation_data=(v_inputs , v_targets),\n",
    "          epochs=epoch, batch_size=128, callbacks=[checkpointer_double_layer], verbose=1)"
   ]
  },
  {
   "cell_type": "code",
   "execution_count": null,
   "metadata": {
    "colab": {
     "base_uri": "https://localhost:8080/"
    },
    "id": "X3QVV_yzqSX_",
    "outputId": "92f19b43-7c03-4778-c826-7dfabc5d6835"
   },
   "outputs": [],
   "source": [
    "loaded = load_model(\"double_layer.hdf5\")\n",
    "scores = loaded.evaluate(t_inputs, t_targets)\n",
    "print(scores[1])"
   ]
  },
  {
   "cell_type": "code",
   "execution_count": null,
   "metadata": {
    "id": "WC3oWD_oqUF_"
   },
   "outputs": [],
   "source": []
  },
  {
   "cell_type": "code",
   "execution_count": null,
   "metadata": {
    "id": "xUW6Bg5gj2V2"
   },
   "outputs": [],
   "source": [
    "from keras.utils import np_utils\n",
    "from keras.models import Sequential\n",
    "from keras.layers import Conv2D, MaxPooling2D, Flatten, Dense, Dropout, BatchNormalization, Activation\n",
    "from keras import layers\n",
    "\n",
    "model_m1 = Sequential()\n",
    "model_m1.add(Conv2D(filters=32,kernel_size=3,padding='same',activation='relu',input_shape=(48,48,1)))\n",
    "model_m1.add(BatchNormalization())\n",
    "model_m1.add(MaxPooling2D(pool_size=2))\n",
    "model_m1.add(Dropout(0.35))\n",
    "model_m1.add(Conv2D(filters=64,kernel_size=3,padding='same',activation='relu'))\n",
    "model_m1.add(BatchNormalization())\n",
    "model_m1.add(MaxPooling2D(pool_size=2))\n",
    "model_m1.add(Dropout(0.35))\n",
    "model_m1.add(Conv2D(filters=128,kernel_size=3,padding='same',activation='relu'))\n",
    "model_m1.add(BatchNormalization())\n",
    "model_m1.add(MaxPooling2D(pool_size=2))\n",
    "model_m1.add(Dropout(0.35))\n",
    "model_m1.add(Flatten())\n",
    "model_m1.add(Dense(256,activation='relu'))\n",
    "model_m1.add(BatchNormalization())\n",
    "model_m1.add(Dropout(0.35))\n",
    "model_m1.add(Dense(512,activation='relu'))\n",
    "model_m1.add(BatchNormalization())\n",
    "model_m1.add(Dropout(0.35))\n",
    "model_m1.add(Dense(7,activation='softmax'))"
   ]
  },
  {
   "cell_type": "code",
   "execution_count": null,
   "metadata": {
    "id": "u01rlT4Py3Bl"
   },
   "outputs": [],
   "source": [
    "from keras.optimizers import Adam\n",
    "import keras\n",
    "opt = Adam(lr=0.001)\n",
    "\n",
    "model_m1.compile(loss='categorical_crossentropy',optimizer='adam',metrics=['accuracy'])"
   ]
  },
  {
   "cell_type": "code",
   "execution_count": null,
   "metadata": {
    "colab": {
     "base_uri": "https://localhost:8080/"
    },
    "id": "Egi0RWsHy3Hw",
    "outputId": "5a41dffa-6825-4077-fa3e-27c0fdaae1e5"
   },
   "outputs": [],
   "source": [
    "from keras.callbacks import ModelCheckpoint\n",
    "\n",
    "epoch = 50\n",
    "\n",
    "checkpointer_m1 = ModelCheckpoint(filepath='m1.hdf5',verbose=1,save_best_only= True)\n",
    "\n",
    "hist_m1 = model_m1.fit(tr_inputs, tr_targets , \n",
    "          validation_data=(v_inputs , v_targets),\n",
    "          epochs=epoch, batch_size=128, callbacks=[checkpointer_m1], verbose=1)"
   ]
  },
  {
   "cell_type": "code",
   "execution_count": null,
   "metadata": {
    "colab": {
     "base_uri": "https://localhost:8080/"
    },
    "id": "oX9dqbW65yhA",
    "outputId": "b96b9a5f-84a3-478c-a8b9-1cd96acfbd3c"
   },
   "outputs": [],
   "source": [
    "loaded = load_model(\"m1.hdf5\")\n",
    "scores = loaded.evaluate(t_inputs, t_targets)\n",
    "print(scores[1])"
   ]
  },
  {
   "cell_type": "code",
   "execution_count": null,
   "metadata": {
    "colab": {
     "base_uri": "https://localhost:8080/"
    },
    "id": "vqR2C_Isy3Jj",
    "outputId": "05c35551-8edc-4bdd-9052-c309d0441770"
   },
   "outputs": [],
   "source": [
    "from keras.utils import np_utils\n",
    "from keras.models import Sequential\n",
    "from keras.layers import Conv2D, MaxPooling2D, Flatten, Dense, Dropout, BatchNormalization, Activation\n",
    "from keras import layers\n",
    "\n",
    "model_m2 = Sequential()\n",
    "\n",
    "model_m2.add(Conv2D(filters=32,kernel_size=2,padding='same',activation='relu',input_shape=(48,48,1)))\n",
    "model_m2.add(BatchNormalization())\n",
    "model_m2.add(Conv2D(filters=32,kernel_size=2,padding='same',activation='relu',input_shape=(48,48,1)))\n",
    "model_m2.add(BatchNormalization())\n",
    "model_m2.add(MaxPooling2D(pool_size=2))\n",
    "model_m2.add(Dropout(0.35))\n",
    "model_m2.add(Conv2D(filters=64,kernel_size=2,padding='same',activation='relu'))\n",
    "model_m2.add(BatchNormalization())\n",
    "model_m2.add(Conv2D(filters=64,kernel_size=2,padding='same',activation='relu'))\n",
    "model_m2.add(BatchNormalization())\n",
    "model_m2.add(MaxPooling2D(pool_size=2))\n",
    "model_m2.add(Dropout(0.35))\n",
    "model_m2.add(Conv2D(filters=128,kernel_size=2,padding='same',activation='relu'))\n",
    "model_m2.add(BatchNormalization())\n",
    "model_m2.add(Conv2D(filters=128,kernel_size=2,padding='same',activation='relu'))\n",
    "model_m2.add(BatchNormalization())\n",
    "model_m2.add(MaxPooling2D(pool_size=2))\n",
    "model_m2.add(Dropout(0.35))\n",
    "model_m2.add(Flatten())\n",
    "model_m2.add(Dense(256,activation='relu'))\n",
    "model_m2.add(BatchNormalization())\n",
    "model_m2.add(Dropout(0.35))\n",
    "model_m2.add(Dense(512,activation='relu'))\n",
    "model_m2.add(BatchNormalization())\n",
    "model_m2.add(Dropout(0.35))\n",
    "model_m2.add(Dense(7,activation='softmax'))\n",
    "model_m2.summary()"
   ]
  },
  {
   "cell_type": "code",
   "execution_count": null,
   "metadata": {
    "id": "_X1p4k-i5uRk"
   },
   "outputs": [],
   "source": [
    "from keras.optimizers import Adam\n",
    "import keras\n",
    "opt = Adam(lr=0.001)\n",
    "\n",
    "model_m2.compile(loss='categorical_crossentropy',optimizer='adam',metrics=['accuracy'])"
   ]
  },
  {
   "cell_type": "code",
   "execution_count": null,
   "metadata": {
    "colab": {
     "base_uri": "https://localhost:8080/"
    },
    "id": "-Bq80lLH5uUD",
    "outputId": "01cf1e05-290d-47a0-8432-a52ff65b0d9e"
   },
   "outputs": [],
   "source": [
    "from keras.callbacks import ModelCheckpoint\n",
    "\n",
    "epoch = 50\n",
    "\n",
    "checkpointer_m2 = ModelCheckpoint(filepath='m2.hdf5',verbose=1,save_best_only= True)\n",
    "\n",
    "hist_m2 = model_m2.fit(tr_inputs, tr_targets , \n",
    "          validation_data=(v_inputs , v_targets),\n",
    "          epochs=epoch, batch_size=128, callbacks=[checkpointer_m2], verbose=1)"
   ]
  },
  {
   "cell_type": "code",
   "execution_count": null,
   "metadata": {
    "colab": {
     "base_uri": "https://localhost:8080/"
    },
    "id": "3wPKYCZd5yFG",
    "outputId": "c8bd2e12-0484-4f85-c3fc-63cc5e100b03"
   },
   "outputs": [],
   "source": [
    "loaded = load_model(\"m2.hdf5\")\n",
    "scores = loaded.evaluate(t_inputs, t_targets)\n",
    "print(scores[1])"
   ]
  },
  {
   "cell_type": "code",
   "execution_count": null,
   "metadata": {
    "colab": {
     "base_uri": "https://localhost:8080/"
    },
    "id": "CIIWKQUyUjLU",
    "outputId": "48fcdc46-b419-4fe3-9e26-2300a4c3c3e0"
   },
   "outputs": [],
   "source": [
    "from keras.utils import np_utils\n",
    "from keras.models import Sequential\n",
    "from keras.layers import Conv2D, MaxPooling2D, Flatten, Dense, Dropout, BatchNormalization, Activation\n",
    "from keras import layers\n",
    "\n",
    "model_m3 = Sequential()\n",
    "\n",
    "model_m3.add(Conv2D(filters=32,kernel_size=3,padding='same',activation='relu',input_shape=(48,48,1)))\n",
    "model_m3.add(BatchNormalization())\n",
    "model_m3.add(Conv2D(filters=32,kernel_size=3,padding='same',activation='relu',input_shape=(48,48,1)))\n",
    "model_m3.add(BatchNormalization())\n",
    "model_m3.add(MaxPooling2D(pool_size=2))\n",
    "model_m3.add(Dropout(0.35))\n",
    "model_m3.add(Conv2D(filters=64,kernel_size=3,padding='same',activation='relu'))\n",
    "model_m3.add(BatchNormalization())\n",
    "model_m3.add(Conv2D(filters=64,kernel_size=3,padding='same',activation='relu'))\n",
    "model_m3.add(BatchNormalization())\n",
    "model_m3.add(MaxPooling2D(pool_size=2))\n",
    "model_m3.add(Dropout(0.35))\n",
    "model_m3.add(Conv2D(filters=128,kernel_size=3,padding='same',activation='relu'))\n",
    "model_m3.add(BatchNormalization())\n",
    "model_m3.add(Conv2D(filters=128,kernel_size=3,padding='same',activation='relu'))\n",
    "model_m3.add(BatchNormalization())\n",
    "model_m3.add(MaxPooling2D(pool_size=2))\n",
    "model_m3.add(Dropout(0.35))\n",
    "model_m3.add(Flatten())\n",
    "model_m3.add(Dense(256,activation='relu'))\n",
    "model_m3.add(BatchNormalization())\n",
    "model_m3.add(Dropout(0.35))\n",
    "model_m3.add(Dense(512,activation='relu'))\n",
    "model_m3.add(BatchNormalization())\n",
    "model_m3.add(Dropout(0.35))\n",
    "model_m3.add(Dense(7,activation='softmax'))\n",
    "model_m3.summary()"
   ]
  },
  {
   "cell_type": "code",
   "execution_count": null,
   "metadata": {
    "id": "yNhqgQFEUjaX"
   },
   "outputs": [],
   "source": [
    "model_m3.compile(loss='categorical_crossentropy',optimizer='adam',metrics=['accuracy'])\n"
   ]
  },
  {
   "cell_type": "code",
   "execution_count": null,
   "metadata": {
    "colab": {
     "base_uri": "https://localhost:8080/"
    },
    "id": "Y1oHhfF0Ujh2",
    "outputId": "d2405f27-895c-43da-eaf8-f2a79eb6a3e6"
   },
   "outputs": [],
   "source": [
    "from keras.callbacks import ModelCheckpoint\n",
    "\n",
    "epoch = 50\n",
    "\n",
    "checkpointer_m3 = ModelCheckpoint(filepath='m3.hdf5',verbose=1,save_best_only= True)\n",
    "\n",
    "hist_m3 = model_m3.fit(tr_inputs, tr_targets , \n",
    "          validation_data=(v_inputs , v_targets),\n",
    "          epochs=epoch, batch_size=128, callbacks=[checkpointer_m3], verbose=1)"
   ]
  },
  {
   "cell_type": "code",
   "execution_count": null,
   "metadata": {
    "colab": {
     "base_uri": "https://localhost:8080/"
    },
    "id": "TwesRPLanxUg",
    "outputId": "6a613d18-9520-489d-d2d9-7751c6e523b8"
   },
   "outputs": [],
   "source": [
    "from keras.models import load_model\n",
    "loaded = load_model(\"../models/m3.hdf5\")\n",
    "scores = loaded.evaluate(t_inputs, t_targets)\n",
    "print(scores[1])"
   ]
  },
  {
   "cell_type": "code",
   "execution_count": null,
   "metadata": {
    "colab": {
     "base_uri": "https://localhost:8080/",
     "height": 541
    },
    "id": "kbIW1lyz7Ka1",
    "outputId": "c2ec284a-8527-484e-a53a-558beffb2a09"
   },
   "outputs": [],
   "source": [
    "import matplotlib.pyplot as plt\n",
    "plt.plot(hist_dropoutf.history['val_loss'][:50], label='FER-CNN6 Kernel Size (2,2)')\n",
    "plt.plot(hist_m1.history['val_loss'], label='FER-CNN6 Kernel Size (3,3)')\n",
    "plt.plot(hist_m2.history['val_loss'], label='FER-CNN9 Kernel Size (2,2)')\n",
    "plt.plot(hist_m3.history['val_loss'], label='FER-CNN9 Kernel Size (3,3)')\n",
    "\n",
    "plt.legend(loc=\"upper left\")\n",
    "plt.xlabel(\"epochs\")\n",
    "plt.ylabel(\"validation losses\")\n",
    "plt.show()\n",
    "\n",
    "plt.clf()\n",
    "plt.plot(hist_dropoutf.history['val_accuracy'][:50], label='FER-CNN6 Kernel Size (2,2)')\n",
    "plt.plot(hist_m1.history['val_accuracy'], label='FER-CNN6 Kernel Size (3,3)')\n",
    "plt.plot(hist_m2.history['val_accuracy'], label='FER-CNN9 Kernel Size (2,2)')\n",
    "plt.plot(hist_m3.history['val_accuracy'], label='FER-CNN9 Kernel Size (3,3)')\n",
    "plt.legend(loc=\"lower right\")\n",
    "plt.xlabel(\"epochs\")\n",
    "plt.ylabel(\"validation accuracy\")\n",
    "plt.show()"
   ]
  },
  {
   "cell_type": "markdown",
   "metadata": {
    "id": "F3hx_YGxAWQE"
   },
   "source": [
    "## Test number of filters and number of neurons"
   ]
  },
  {
   "cell_type": "code",
   "execution_count": null,
   "metadata": {
    "id": "zGEposnM_qVu"
   },
   "outputs": [],
   "source": [
    "from keras.utils import np_utils\n",
    "from keras.models import Sequential\n",
    "from keras.layers import Conv2D, MaxPooling2D, Flatten, Dense, Dropout, BatchNormalization, Activation\n",
    "from keras import layers\n",
    "\n",
    "model_m4 = Sequential()\n",
    "model_m4.add(Conv2D(filters=64,kernel_size=3,padding='same',activation='relu',input_shape=(48,48,1)))\n",
    "model_m4.add(BatchNormalization())\n",
    "model_m4.add(MaxPooling2D(pool_size=2))\n",
    "model_m4.add(Dropout(0.35))\n",
    "model_m4.add(Conv2D(filters=128,kernel_size=3,padding='same',activation='relu'))\n",
    "model_m4.add(BatchNormalization())\n",
    "model_m4.add(MaxPooling2D(pool_size=2))\n",
    "model_m4.add(Dropout(0.35))\n",
    "model_m4.add(Conv2D(filters=256,kernel_size=3,padding='same',activation='relu'))\n",
    "model_m4.add(BatchNormalization())\n",
    "model_m4.add(MaxPooling2D(pool_size=2))\n",
    "model_m4.add(Dropout(0.35))\n",
    "model_m4.add(Flatten())\n",
    "model_m4.add(Dense(512,activation='relu'))\n",
    "model_m4.add(BatchNormalization())\n",
    "model_m4.add(Dropout(0.35))\n",
    "model_m4.add(Dense(1024,activation='relu'))\n",
    "model_m4.add(BatchNormalization())\n",
    "model_m4.add(Dropout(0.35))\n",
    "model_m4.add(Dense(7,activation='softmax'))"
   ]
  },
  {
   "cell_type": "code",
   "execution_count": null,
   "metadata": {
    "id": "rL9PmJsb_qbT"
   },
   "outputs": [],
   "source": [
    "model_m4.compile(loss='categorical_crossentropy',optimizer='adam',metrics=['accuracy'])\n"
   ]
  },
  {
   "cell_type": "code",
   "execution_count": null,
   "metadata": {
    "colab": {
     "base_uri": "https://localhost:8080/"
    },
    "id": "W-gF3l2y_qhP",
    "outputId": "3e3c7373-6de9-4644-815f-e1c605cffca6"
   },
   "outputs": [],
   "source": [
    "from keras.callbacks import ModelCheckpoint\n",
    "\n",
    "epoch = 50\n",
    "\n",
    "checkpointer_m4 = ModelCheckpoint(filepath='m4.hdf5',verbose=1,save_best_only= True)\n",
    "\n",
    "hist_m4 = model_m4.fit(tr_inputs, tr_targets , \n",
    "          validation_data=(t_inputs , t_targets),\n",
    "          epochs=epoch, batch_size=128, callbacks=[checkpointer_m4], verbose=1)"
   ]
  },
  {
   "cell_type": "code",
   "execution_count": null,
   "metadata": {
    "colab": {
     "base_uri": "https://localhost:8080/"
    },
    "id": "e_gmP4WuAhqp",
    "outputId": "08c594a7-9cde-478d-a273-52e6a3fcec87"
   },
   "outputs": [],
   "source": [
    "loaded = load_model(\"m4.hdf5\")\n",
    "scores = loaded.evaluate(t_inputs, t_targets)\n",
    "print(scores[1])"
   ]
  },
  {
   "cell_type": "code",
   "execution_count": null,
   "metadata": {
    "id": "J_TVm7Qf_qnS"
   },
   "outputs": [],
   "source": [
    "from keras.utils import np_utils\n",
    "from keras.models import Sequential\n",
    "from keras.layers import Conv2D, MaxPooling2D, Flatten, Dense, Dropout, BatchNormalization, Activation\n",
    "from keras import layers\n",
    "\n",
    "model_m5 = Sequential()\n",
    "\n",
    "model_m5.add(Conv2D(filters=64,kernel_size=3,padding='same',activation='relu',input_shape=(48,48,1)))\n",
    "model_m5.add(BatchNormalization())\n",
    "model_m5.add(Conv2D(filters=64,kernel_size=3,padding='same',activation='relu',input_shape=(48,48,1)))\n",
    "model_m5.add(BatchNormalization())\n",
    "model_m5.add(MaxPooling2D(pool_size=2))\n",
    "model_m5.add(Dropout(0.35))\n",
    "model_m5.add(Conv2D(filters=128,kernel_size=3,padding='same',activation='relu'))\n",
    "model_m5.add(BatchNormalization())\n",
    "model_m5.add(Conv2D(filters=128,kernel_size=3,padding='same',activation='relu'))\n",
    "model_m5.add(BatchNormalization())\n",
    "model_m5.add(MaxPooling2D(pool_size=2))\n",
    "model_m5.add(Dropout(0.35))\n",
    "model_m5.add(Conv2D(filters=256,kernel_size=3,padding='same',activation='relu'))\n",
    "model_m5.add(BatchNormalization())\n",
    "model_m5.add(Conv2D(filters=256,kernel_size=3,padding='same',activation='relu'))\n",
    "model_m5.add(BatchNormalization())\n",
    "model_m5.add(MaxPooling2D(pool_size=2))\n",
    "model_m5.add(Dropout(0.35))\n",
    "model_m5.add(Flatten())\n",
    "model_m5.add(Dense(512,activation='relu'))\n",
    "model_m5.add(BatchNormalization())\n",
    "model_m5.add(Dropout(0.35))\n",
    "model_m5.add(Dense(1024,activation='relu'))\n",
    "model_m5.add(BatchNormalization())\n",
    "model_m5.add(Dropout(0.35))\n",
    "model_m5.add(Dense(7,activation='softmax'))"
   ]
  },
  {
   "cell_type": "code",
   "execution_count": null,
   "metadata": {
    "colab": {
     "base_uri": "https://localhost:8080/"
    },
    "id": "kstFsgbo_qsm",
    "outputId": "57c23d6e-34b9-45ed-a2c4-144fddd12acb"
   },
   "outputs": [],
   "source": [
    "model_m5.compile(loss='categorical_crossentropy',optimizer='adam',metrics=['accuracy'])\n",
    "model_m5.summary()"
   ]
  },
  {
   "cell_type": "code",
   "execution_count": null,
   "metadata": {
    "colab": {
     "base_uri": "https://localhost:8080/"
    },
    "id": "-lI3pxBw_qxs",
    "outputId": "883ffa3d-d32c-47c7-c48a-b38e7843f64d"
   },
   "outputs": [],
   "source": [
    "from keras.callbacks import ModelCheckpoint\n",
    "\n",
    "epoch = 50\n",
    "\n",
    "checkpointer_m5 = ModelCheckpoint(filepath='m5.hdf5',verbose=1,save_best_only= True)\n",
    "\n",
    "hist_m5 = model_m5.fit(tr_inputs, tr_targets , \n",
    "          validation_data=(t_inputs , t_targets),\n",
    "          epochs=epoch, batch_size=128, callbacks=[checkpointer_m5], verbose=1)"
   ]
  },
  {
   "cell_type": "code",
   "execution_count": null,
   "metadata": {
    "colab": {
     "base_uri": "https://localhost:8080/"
    },
    "id": "yc5t5ZZh_q9N",
    "outputId": "d6d05df6-bee2-441d-f393-ed301cd276e2"
   },
   "outputs": [],
   "source": [
    "loaded = load_model(\"m5.hdf5\")\n",
    "scores = loaded.evaluate(t_inputs, t_targets)\n",
    "print(scores[1])"
   ]
  },
  {
   "cell_type": "code",
   "execution_count": null,
   "metadata": {
    "id": "pUphmAucMpPT"
   },
   "outputs": [],
   "source": []
  },
  {
   "cell_type": "markdown",
   "metadata": {
    "id": "q-vr_4B1ZZA2"
   },
   "source": [
    "#Do something with the best model."
   ]
  },
  {
   "cell_type": "code",
   "execution_count": null,
   "metadata": {
    "id": "NChXWv13ZpaE"
   },
   "outputs": [],
   "source": [
    "from google.colab import files\n",
    "uploaded = files.upload()"
   ]
  },
  {
   "cell_type": "code",
   "execution_count": null,
   "metadata": {
    "colab": {
     "base_uri": "https://localhost:8080/",
     "height": 311
    },
    "id": "6MEhw_9MMpMz",
    "outputId": "d331532d-17f4-4bf0-8fc7-d9c2cf36d3e7"
   },
   "outputs": [],
   "source": [
    "from sklearn import metrics\n",
    "import pandas as pd\n",
    "import seaborn\n",
    "loaded = load_model(\"m3.hdf5\")\n",
    "res = loaded.predict(t_inputs)\n",
    "emotion_dict = {0: 'Angry', 1:'Disgust', 2: 'Fear', 3: 'Happy', 4: 'Sad', 5: 'Surprise', 6:'Neutral'}\n",
    "label = ['Angry', 'Disgust', 'Fear', 'Happy', 'Sad', 'Surprise', 'Neutral']\n",
    "y_true = []\n",
    "for t in t_targets:\n",
    "  y_true.append(emotion_dict[np.argmax(t)])\n",
    "y_pred = []\n",
    "for t in res:\n",
    "  ind = np.argmax(t)\n",
    "  y_pred.append(emotion_dict[ind])\n",
    "cm = metrics.confusion_matrix(y_true, y_pred)\n",
    "cm.dtype = np.float64\n",
    "for i in range(len(cm)):\n",
    "  s = np.sum(cm[i])\n",
    "  cm[i] = cm[i] / s\n",
    "df_cm = pd.DataFrame(cm, index=label, columns=label)\n",
    "seaborn.heatmap(df_cm, annot=True, cmap='coolwarm')\n",
    "plt.xlabel(\"prediction\")\n",
    "plt.ylabel(\"true label\")\n",
    "plt.show()\n",
    "# metrics.classification_report"
   ]
  },
  {
   "cell_type": "markdown",
   "metadata": {},
   "source": [
    "## Run on User Inputs"
   ]
  },
  {
   "cell_type": "code",
   "execution_count": 1,
   "metadata": {},
   "outputs": [],
   "source": [
    "from keras.models import load_model\n",
    "loaded = load_model(\"../models/m3.hdf5\")\n"
   ]
  },
  {
   "cell_type": "code",
   "execution_count": 2,
   "metadata": {},
   "outputs": [],
   "source": [
    "from PIL import Image\n",
    "import numpy as np\n",
    "\n",
    "# load, chop, and reshape the image\n",
    "def get_image(image_path):\n",
    "    \n",
    "    image = Image.open(image_path)\n",
    "\n",
    "    # Remove most pixels that aren't part of a face\n",
    "    face_width = face_height = 500\n",
    "    j = (image.size[0] - face_width) // 2\n",
    "    i = (image.size[1] - face_height) // 2\n",
    "    image = image.crop([j, i, j + face_width, i + face_height])\n",
    "    image = image.resize([48, 48], Image.BILINEAR)\n",
    "\n",
    "    return np.array(image.convert('L'))"
   ]
  },
  {
   "cell_type": "code",
   "execution_count": 3,
   "metadata": {},
   "outputs": [],
   "source": [
    "import matplotlib.pyplot as plt\n",
    "\n",
    "emotion_dict = {0: 'Angry', 1:'Disgust', 2: 'Fear', 3: 'Happy', 4: 'Sad', 5: 'Surprise', 6:'Neutral'}\n",
    "\n",
    "# predict the image to a category\n",
    "def predict_image(image_path):\n",
    "    img = get_image(path)\n",
    "    plt.imshow(img, cmap='gray')\n",
    "    plt.show()\n",
    "    \n",
    "    img_input = np.expand_dims(img,axis=2)\n",
    "    img_input = np.expand_dims(img_input, axis=0)\n",
    "    img_input = np.array(img_input,dtype=np.float32)\n",
    "    img_input /= 255\n",
    "    \n",
    "    res = np.argmax(loaded.predict(img_input), axis=-1)\n",
    "#     print(loaded.predict(img_input))\n",
    "    print(emotion_dict[res[0]])\n",
    "    print()\n",
    "    print()"
   ]
  },
  {
   "cell_type": "code",
   "execution_count": 4,
   "metadata": {},
   "outputs": [
    {
     "data": {
      "image/png": "[encoded data removed]",
      "text/plain": [
       "<Figure size 432x288 with 1 Axes>"
      ]
     },
     "metadata": {
      "needs_background": "light"
     },
     "output_type": "display_data"
    },
    {
     "name": "stdout",
     "output_type": "stream",
     "text": [
      "Surprise\n",
      "\n",
      "\n"
     ]
    },
    {
     "data": {
      "image/png": "[encoded data removed]",
      "text/plain": [
       "<Figure size 432x288 with 1 Axes>"
      ]
     },
     "metadata": {
      "needs_background": "light"
     },
     "output_type": "display_data"
    },
    {
     "name": "stdout",
     "output_type": "stream",
     "text": [
      "Neutral\n",
      "\n",
      "\n"
     ]
    },
    {
     "data": {
      "image/png": "[encoded data removed]",
      "text/plain": [
       "<Figure size 432x288 with 1 Axes>"
      ]
     },
     "metadata": {
      "needs_background": "light"
     },
     "output_type": "display_data"
    },
    {
     "name": "stdout",
     "output_type": "stream",
     "text": [
      "Happy\n",
      "\n",
      "\n"
     ]
    },
    {
     "data": {
      "image/png": "[encoded data removed]",
      "text/plain": [
       "<Figure size 432x288 with 1 Axes>"
      ]
     },
     "metadata": {
      "needs_background": "light"
     },
     "output_type": "display_data"
    },
    {
     "name": "stdout",
     "output_type": "stream",
     "text": [
      "Disgust\n",
      "\n",
      "\n"
     ]
    }
   ],
   "source": [
    "path = \"rex_surprise.jpg\"\n",
    "predict_image(path)\n",
    "\n",
    "path = \"rex_neutral.jpg\"\n",
    "predict_image(path)\n",
    "\n",
    "path = \"rex_happy.jpg\"\n",
    "predict_image(path)\n",
    "\n",
    "path = \"rex_disgust.jpg\"\n",
    "predict_image(path)"
   ]
  },
  {
   "cell_type": "code",
   "execution_count": null,
   "metadata": {},
   "outputs": [],
   "source": []
  }
 ],
 "metadata": {
  "accelerator": "GPU",
  "colab": {
   "collapsed_sections": [],
   "name": "proto.ipynb",
   "provenance": [],
   "toc_visible": true
  },
  "kernelspec": {
   "display_name": "Python 3",
   "language": "python",
   "name": "python3"
  },
  "language_info": {
   "codemirror_mode": {
    "name": "ipython",
    "version": 3
   },
   "file_extension": ".py",
   "mimetype": "text/x-python",
   "name": "python",
   "nbconvert_exporter": "python",
   "pygments_lexer": "ipython3",
   "version": "3.7.0"
  }
 },
 "nbformat": 4,
 "nbformat_minor": 1
}
